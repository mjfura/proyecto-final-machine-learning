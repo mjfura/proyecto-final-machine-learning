{
 "cells": [
  {
   "cell_type": "code",
   "execution_count": 38,
   "metadata": {},
   "outputs": [
    {
     "name": "stderr",
     "output_type": "stream",
     "text": [
      "[nltk_data] Downloading package stopwords to\n",
      "[nltk_data]     C:\\Users\\nicol\\AppData\\Roaming\\nltk_data...\n",
      "[nltk_data]   Package stopwords is already up-to-date!\n",
      "[nltk_data] Downloading package words to\n",
      "[nltk_data]     C:\\Users\\nicol\\AppData\\Roaming\\nltk_data...\n",
      "[nltk_data]   Package words is already up-to-date!\n"
     ]
    },
    {
     "data": {
      "application/vnd.plotly.v1+json": {
       "config": {
        "plotlyServerURL": "https://plot.ly"
       },
       "data": [
        {
         "hovertemplate": "<b>%{hovertext}</b><br><br>Principal Component 1=%{x}<br>Principal Component 2=%{y}<br>Principal Component 3=%{z}<br>cluster=%{marker.color}<extra></extra>",
         "hovertext": [
          "point",
          "whole",
          "tri",
          "tell",
          "glad",
          "drug",
          "friend",
          "michigan",
          "pack",
          "paper",
          "crochet",
          "bum",
          "hug",
          "there",
          "rich",
          "your",
          "count",
          "idea",
          "enlighten",
          "flight",
          "morn",
          "phone",
          "thing",
          "day",
          "head",
          "could",
          "haircut",
          "quot",
          "heart",
          "hope",
          "interest",
          "great",
          "parent",
          "watch",
          "els",
          "case",
          "away",
          "hand",
          "staff",
          "yeah",
          "damn",
          "bud",
          "woe",
          "yea",
          "switch",
          "boo",
          "mine",
          "that",
          "nice",
          "dress",
          "smash",
          "cinder",
          "what",
          "cold",
          "said",
          "month",
          "fight",
          "better",
          "ace",
          "victim",
          "bore",
          "center",
          "your",
          "join",
          "space",
          "feel",
          "guild",
          "charger",
          "hear",
          "mother",
          "day",
          "swine",
          "tonight",
          "buy",
          "round",
          "end",
          "era",
          "ya",
          "foot",
          "extern",
          "step",
          "music",
          "wash",
          "caviar",
          "hay",
          "set",
          "enjoy",
          "caramel",
          "know",
          "cleaner",
          "your",
          "face",
          "who",
          "that",
          "stomach",
          "cannot",
          "watch",
          "girl",
          "miss",
          "your"
         ],
         "legendgroup": "",
         "marker": {
          "color": [
           8,
           1,
           1,
           4,
           4,
           2,
           14,
           13,
           0,
           8,
           13,
           4,
           9,
           1,
           13,
           11,
           12,
           13,
           8,
           4,
           8,
           4,
           14,
           1,
           2,
           6,
           8,
           12,
           0,
           6,
           5,
           8,
           0,
           9,
           4,
           13,
           5,
           6,
           4,
           2,
           8,
           8,
           12,
           6,
           8,
           12,
           0,
           3,
           8,
           6,
           8,
           0,
           14,
           0,
           6,
           8,
           8,
           1,
           0,
           9,
           8,
           8,
           8,
           0,
           8,
           8,
           8,
           9,
           14,
           1,
           7,
           0,
           14,
           8,
           1,
           1,
           0,
           6,
           0,
           0,
           8,
           1,
           0,
           8,
           12,
           12,
           8,
           4,
           4,
           0,
           14,
           8,
           13,
           3,
           8,
           8,
           2,
           14,
           8,
           10
          ],
          "coloraxis": "coloraxis",
          "size": 3,
          "symbol": "circle"
         },
         "mode": "markers",
         "name": "",
         "scene": "scene",
         "showlegend": false,
         "type": "scatter3d",
         "x": [
          -0.1148062979386505,
          -0.13850728045272565,
          -0.16483418639456318,
          -0.1722614040048149,
          -0.08245606769973848,
          -0.11585501244840583,
          -0.1535272502688896,
          -1.2151899888958086,
          -18.7548231185711,
          -0.14161281406549675,
          -0.3675014332386986,
          -0.21348168846509938,
          -0.1731484914406448,
          -0.1043471986912466,
          -0.20431407921961314,
          -0.07687325232568167,
          -0.24767337584687313,
          -0.21542964886529353,
          -0.08731511272575511,
          -0.20744676090523723,
          -0.08731511272575562,
          -0.1630342057789314,
          0.9874328638553045,
          -0.10481623335886768,
          -0.23228621328983287,
          1.0963503979576894,
          -0.18352832541943598,
          -0.011605042230189076,
          -0.21368303768186275,
          -0.07610319811766593,
          -0.07609469121499177,
          -0.15607485944788974,
          -0.35579037897823007,
          -0.10767578585927497,
          -0.22861569994122502,
          -0.21372192747435678,
          0.45350394539145245,
          0.7388641626999275,
          -0.2797479432445752,
          -0.4002189917363201,
          -0.08731511272575576,
          -0.16150577028672894,
          -0.12190938000459925,
          0.8763147682127373,
          -0.12127756680615866,
          -0.09351579758813751,
          3.3499367753526355,
          -0.12372362842185959,
          -0.0984585547081528,
          -0.22989894758126347,
          -0.16610305645240564,
          -1.7756055942496545,
          -0.14557683514232533,
          -0.13055694160087838,
          -0.40911503845395564,
          -0.1478500699102486,
          0.31547989921906316,
          -0.3809526024158969,
          11.369017075850019,
          -0.12169992499826933,
          -1.6478953157890497,
          -0.08731511272575578,
          -0.07687325232568165,
          18.289896769782914,
          -0.10103953112903404,
          -0.10103953112903397,
          -0.1890892213957355,
          -0.08051493474703876,
          -0.12552764819210233,
          -0.15680932503289086,
          -0.10481623335886733,
          -0.5994517385272208,
          -0.27549336699594706,
          -0.16692036774890814,
          0.34914314786000283,
          -0.42993760066509007,
          1.2231909429671015,
          -0.057398305482004565,
          -1.2348231243858703,
          -0.4719557201297392,
          -0.14736640812928556,
          -0.21135339579085374,
          -0.47195572012973264,
          -0.19119902243305095,
          -0.1613983419041585,
          -0.2876472551609056,
          -0.08731511272575601,
          -0.23789089292605886,
          -0.23007354047942563,
          -0.11898647637725651,
          -0.109031180341963,
          -0.2004168004689305,
          -0.19344028462119273,
          -0.10302095350932097,
          -0.042336202945092626,
          -0.12046141856760739,
          -0.11792927799422247,
          0.26052913850426734,
          -0.13728309075267747,
          -0.07687325232568187
         ],
         "y": [
          -0.24437934833224353,
          -0.327152633837752,
          -0.3713716860466023,
          -0.3899392024157988,
          -0.3536656506097635,
          -0.26759577248100314,
          -0.34976326383947565,
          -3.5765336448962137,
          21.398277794334604,
          -0.2964062151824249,
          -0.9670989669255274,
          -0.5239984220264847,
          -0.4210158764682737,
          -0.22763362395509878,
          -0.4650721111388614,
          -0.15887975807987348,
          -0.5720318512599322,
          -0.523768035874468,
          -0.18077148187550085,
          -0.5143960912994521,
          -0.18077148187550077,
          -0.494880876826621,
          0.2801420435897701,
          -0.23563001664275549,
          -0.7842360359629671,
          0.2916061001854672,
          -0.43016026238133004,
          -0.6294709038197377,
          -0.8114959020715177,
          -0.21127771017645983,
          -0.22268288983678844,
          -0.3384167628892906,
          -1.2012376569435752,
          -0.23429224258594517,
          -0.6409303975563049,
          -0.5559309973030987,
          -0.2723368351212447,
          0.01958586442015542,
          -0.7224042807104234,
          -1.4511709619639923,
          -0.18077148187550082,
          -0.3928654744564889,
          -0.5205823235367336,
          0.3417084375597749,
          -0.2583022746518382,
          -0.19746880274039333,
          2.179162489228978,
          -0.273732627230446,
          -0.21088461201051356,
          -0.5432655035003539,
          -0.40626066077510964,
          -5.094448544172423,
          -0.3213352671603879,
          -0.29542580431074394,
          -1.0402884836459656,
          -0.2794467583482674,
          0.04847055353562896,
          -0.8873088930818326,
          8.319347390838315,
          -0.25986041945138705,
          1.461492620234468,
          -0.1807714818755009,
          -0.1588797580798719,
          14.965660542193358,
          -0.20966013169095182,
          -0.2096601316909509,
          -0.41741165400403174,
          -0.2828919656702131,
          -0.2982618033324435,
          -0.3423204004564566,
          -0.23563001664275524,
          -1.4065399729124604,
          -0.6244574341802789,
          -0.42502493649278505,
          -0.1377208046398696,
          -1.1502101257881254,
          0.5043564142842681,
          -0.17640899568642548,
          -3.649131496818321,
          -1.0432814859579618,
          -0.30814931246595,
          -0.5053437603200056,
          -1.0432814859579513,
          -0.4027454254564687,
          -0.40670578484743153,
          -0.2122761525322432,
          -0.18077148187550093,
          -0.5304947845749826,
          -0.5680264395212246,
          -0.5202493200917829,
          -0.41592388564414123,
          -0.5788670515433464,
          -0.4184547748217656,
          -0.21848099503246854,
          -0.20177608767551405,
          -0.2679456512292069,
          -0.2750203135379493,
          -0.025291441061214195,
          -0.3118159660556444,
          -0.15887975807987137
         ],
         "z": [
          -0.1214362401160126,
          -0.17634545016743897,
          -0.19612244208902935,
          -0.21706894395049797,
          -0.24353002601712553,
          -0.15367672781880257,
          -0.20503169892126222,
          -3.462038408501413,
          1.8940113741334388,
          -0.14145685178517464,
          -0.7345281600787237,
          -0.3229771305804066,
          -0.2301845253011419,
          -0.11402396331394454,
          -0.26215334378049177,
          -0.07343009579664089,
          -0.35902888962280743,
          -0.36715623884565507,
          -0.0839522121781167,
          -0.3250129917534036,
          -0.0839522121781169,
          -0.33046456287010595,
          -0.2602439957821587,
          -0.12244404857968988,
          -0.551026518387383,
          -0.37826303279942186,
          -0.24922536942173312,
          -0.5933095515055541,
          -0.6635044233133486,
          -0.11450933909028223,
          -0.12370261364372252,
          -0.17532759554558838,
          -0.8812700797441692,
          -0.11509336675235941,
          -0.4877252302425743,
          -0.3774174120732,
          -0.4540679351279928,
          -0.454234910814258,
          -0.550029111880724,
          -1.396287785270595,
          -0.08395221217811673,
          -0.2933739403117736,
          -0.38676789325339345,
          -0.15211352933657812,
          -0.12951016241075336,
          -0.09528763660063785,
          0.10742485840548972,
          -0.156180309672373,
          -0.10814871943646721,
          -0.3375985317162476,
          -0.2994462305103074,
          27.43258223431373,
          -0.16821063951631451,
          -0.15477830881911003,
          -0.8615828742841701,
          -0.3555134656572867,
          -0.10514545418937217,
          -0.5350774726021849,
          0.9695412146090601,
          -0.12562449761978156,
          0.0010520874636443368,
          -0.0839522121781171,
          -0.07343009579664679,
          3.27400220537878,
          -0.0979942296651348,
          -0.09799422966513487,
          -0.2276488185784078,
          -0.17571377286104783,
          -0.15514415975643694,
          -0.17394081261020589,
          -0.12244404857969315,
          -0.8999389649426884,
          -0.3414316860284548,
          -0.3075057410517349,
          -0.2584998555776157,
          -0.9520442314380095,
          -0.21654717832000828,
          -0.0977442960383488,
          -3.6809720103597394,
          -0.598657959734622,
          -0.14725435431742762,
          -0.29485679497785344,
          -0.5986579597346198,
          -0.19669107603303101,
          -0.251099181850948,
          -0.18497890357339924,
          -0.08395221217811641,
          -0.29207720977013907,
          -0.3429772574162364,
          -0.3478124356716281,
          -0.2633663570863775,
          -0.4590816033454523,
          -0.2204943794001923,
          -0.10618287989547501,
          -0.12610429552178098,
          -0.14867049850320121,
          -0.15856478291495124,
          -0.1425196837828243,
          -0.17867239559590403,
          -0.07343009579664773
         ]
        }
       ],
       "layout": {
        "coloraxis": {
         "colorbar": {
          "title": {
           "text": "cluster"
          }
         },
         "colorscale": [
          [
           0,
           "#0d0887"
          ],
          [
           0.1111111111111111,
           "#46039f"
          ],
          [
           0.2222222222222222,
           "#7201a8"
          ],
          [
           0.3333333333333333,
           "#9c179e"
          ],
          [
           0.4444444444444444,
           "#bd3786"
          ],
          [
           0.5555555555555556,
           "#d8576b"
          ],
          [
           0.6666666666666666,
           "#ed7953"
          ],
          [
           0.7777777777777778,
           "#fb9f3a"
          ],
          [
           0.8888888888888888,
           "#fdca26"
          ],
          [
           1,
           "#f0f921"
          ]
         ]
        },
        "legend": {
         "tracegroupgap": 0
        },
        "margin": {
         "b": 0,
         "l": 0,
         "r": 0,
         "t": 40
        },
        "scene": {
         "domain": {
          "x": [
           0,
           1
          ],
          "y": [
           0,
           1
          ]
         },
         "xaxis": {
          "title": {
           "text": "Principal Component 1"
          }
         },
         "yaxis": {
          "title": {
           "text": "Principal Component 2"
          }
         },
         "zaxis": {
          "title": {
           "text": "Principal Component 3"
          }
         }
        },
        "template": {
         "data": {
          "bar": [
           {
            "error_x": {
             "color": "#2a3f5f"
            },
            "error_y": {
             "color": "#2a3f5f"
            },
            "marker": {
             "line": {
              "color": "#E5ECF6",
              "width": 0.5
             },
             "pattern": {
              "fillmode": "overlay",
              "size": 10,
              "solidity": 0.2
             }
            },
            "type": "bar"
           }
          ],
          "barpolar": [
           {
            "marker": {
             "line": {
              "color": "#E5ECF6",
              "width": 0.5
             },
             "pattern": {
              "fillmode": "overlay",
              "size": 10,
              "solidity": 0.2
             }
            },
            "type": "barpolar"
           }
          ],
          "carpet": [
           {
            "aaxis": {
             "endlinecolor": "#2a3f5f",
             "gridcolor": "white",
             "linecolor": "white",
             "minorgridcolor": "white",
             "startlinecolor": "#2a3f5f"
            },
            "baxis": {
             "endlinecolor": "#2a3f5f",
             "gridcolor": "white",
             "linecolor": "white",
             "minorgridcolor": "white",
             "startlinecolor": "#2a3f5f"
            },
            "type": "carpet"
           }
          ],
          "choropleth": [
           {
            "colorbar": {
             "outlinewidth": 0,
             "ticks": ""
            },
            "type": "choropleth"
           }
          ],
          "contour": [
           {
            "colorbar": {
             "outlinewidth": 0,
             "ticks": ""
            },
            "colorscale": [
             [
              0,
              "#0d0887"
             ],
             [
              0.1111111111111111,
              "#46039f"
             ],
             [
              0.2222222222222222,
              "#7201a8"
             ],
             [
              0.3333333333333333,
              "#9c179e"
             ],
             [
              0.4444444444444444,
              "#bd3786"
             ],
             [
              0.5555555555555556,
              "#d8576b"
             ],
             [
              0.6666666666666666,
              "#ed7953"
             ],
             [
              0.7777777777777778,
              "#fb9f3a"
             ],
             [
              0.8888888888888888,
              "#fdca26"
             ],
             [
              1,
              "#f0f921"
             ]
            ],
            "type": "contour"
           }
          ],
          "contourcarpet": [
           {
            "colorbar": {
             "outlinewidth": 0,
             "ticks": ""
            },
            "type": "contourcarpet"
           }
          ],
          "heatmap": [
           {
            "colorbar": {
             "outlinewidth": 0,
             "ticks": ""
            },
            "colorscale": [
             [
              0,
              "#0d0887"
             ],
             [
              0.1111111111111111,
              "#46039f"
             ],
             [
              0.2222222222222222,
              "#7201a8"
             ],
             [
              0.3333333333333333,
              "#9c179e"
             ],
             [
              0.4444444444444444,
              "#bd3786"
             ],
             [
              0.5555555555555556,
              "#d8576b"
             ],
             [
              0.6666666666666666,
              "#ed7953"
             ],
             [
              0.7777777777777778,
              "#fb9f3a"
             ],
             [
              0.8888888888888888,
              "#fdca26"
             ],
             [
              1,
              "#f0f921"
             ]
            ],
            "type": "heatmap"
           }
          ],
          "heatmapgl": [
           {
            "colorbar": {
             "outlinewidth": 0,
             "ticks": ""
            },
            "colorscale": [
             [
              0,
              "#0d0887"
             ],
             [
              0.1111111111111111,
              "#46039f"
             ],
             [
              0.2222222222222222,
              "#7201a8"
             ],
             [
              0.3333333333333333,
              "#9c179e"
             ],
             [
              0.4444444444444444,
              "#bd3786"
             ],
             [
              0.5555555555555556,
              "#d8576b"
             ],
             [
              0.6666666666666666,
              "#ed7953"
             ],
             [
              0.7777777777777778,
              "#fb9f3a"
             ],
             [
              0.8888888888888888,
              "#fdca26"
             ],
             [
              1,
              "#f0f921"
             ]
            ],
            "type": "heatmapgl"
           }
          ],
          "histogram": [
           {
            "marker": {
             "pattern": {
              "fillmode": "overlay",
              "size": 10,
              "solidity": 0.2
             }
            },
            "type": "histogram"
           }
          ],
          "histogram2d": [
           {
            "colorbar": {
             "outlinewidth": 0,
             "ticks": ""
            },
            "colorscale": [
             [
              0,
              "#0d0887"
             ],
             [
              0.1111111111111111,
              "#46039f"
             ],
             [
              0.2222222222222222,
              "#7201a8"
             ],
             [
              0.3333333333333333,
              "#9c179e"
             ],
             [
              0.4444444444444444,
              "#bd3786"
             ],
             [
              0.5555555555555556,
              "#d8576b"
             ],
             [
              0.6666666666666666,
              "#ed7953"
             ],
             [
              0.7777777777777778,
              "#fb9f3a"
             ],
             [
              0.8888888888888888,
              "#fdca26"
             ],
             [
              1,
              "#f0f921"
             ]
            ],
            "type": "histogram2d"
           }
          ],
          "histogram2dcontour": [
           {
            "colorbar": {
             "outlinewidth": 0,
             "ticks": ""
            },
            "colorscale": [
             [
              0,
              "#0d0887"
             ],
             [
              0.1111111111111111,
              "#46039f"
             ],
             [
              0.2222222222222222,
              "#7201a8"
             ],
             [
              0.3333333333333333,
              "#9c179e"
             ],
             [
              0.4444444444444444,
              "#bd3786"
             ],
             [
              0.5555555555555556,
              "#d8576b"
             ],
             [
              0.6666666666666666,
              "#ed7953"
             ],
             [
              0.7777777777777778,
              "#fb9f3a"
             ],
             [
              0.8888888888888888,
              "#fdca26"
             ],
             [
              1,
              "#f0f921"
             ]
            ],
            "type": "histogram2dcontour"
           }
          ],
          "mesh3d": [
           {
            "colorbar": {
             "outlinewidth": 0,
             "ticks": ""
            },
            "type": "mesh3d"
           }
          ],
          "parcoords": [
           {
            "line": {
             "colorbar": {
              "outlinewidth": 0,
              "ticks": ""
             }
            },
            "type": "parcoords"
           }
          ],
          "pie": [
           {
            "automargin": true,
            "type": "pie"
           }
          ],
          "scatter": [
           {
            "fillpattern": {
             "fillmode": "overlay",
             "size": 10,
             "solidity": 0.2
            },
            "type": "scatter"
           }
          ],
          "scatter3d": [
           {
            "line": {
             "colorbar": {
              "outlinewidth": 0,
              "ticks": ""
             }
            },
            "marker": {
             "colorbar": {
              "outlinewidth": 0,
              "ticks": ""
             }
            },
            "type": "scatter3d"
           }
          ],
          "scattercarpet": [
           {
            "marker": {
             "colorbar": {
              "outlinewidth": 0,
              "ticks": ""
             }
            },
            "type": "scattercarpet"
           }
          ],
          "scattergeo": [
           {
            "marker": {
             "colorbar": {
              "outlinewidth": 0,
              "ticks": ""
             }
            },
            "type": "scattergeo"
           }
          ],
          "scattergl": [
           {
            "marker": {
             "colorbar": {
              "outlinewidth": 0,
              "ticks": ""
             }
            },
            "type": "scattergl"
           }
          ],
          "scattermapbox": [
           {
            "marker": {
             "colorbar": {
              "outlinewidth": 0,
              "ticks": ""
             }
            },
            "type": "scattermapbox"
           }
          ],
          "scatterpolar": [
           {
            "marker": {
             "colorbar": {
              "outlinewidth": 0,
              "ticks": ""
             }
            },
            "type": "scatterpolar"
           }
          ],
          "scatterpolargl": [
           {
            "marker": {
             "colorbar": {
              "outlinewidth": 0,
              "ticks": ""
             }
            },
            "type": "scatterpolargl"
           }
          ],
          "scatterternary": [
           {
            "marker": {
             "colorbar": {
              "outlinewidth": 0,
              "ticks": ""
             }
            },
            "type": "scatterternary"
           }
          ],
          "surface": [
           {
            "colorbar": {
             "outlinewidth": 0,
             "ticks": ""
            },
            "colorscale": [
             [
              0,
              "#0d0887"
             ],
             [
              0.1111111111111111,
              "#46039f"
             ],
             [
              0.2222222222222222,
              "#7201a8"
             ],
             [
              0.3333333333333333,
              "#9c179e"
             ],
             [
              0.4444444444444444,
              "#bd3786"
             ],
             [
              0.5555555555555556,
              "#d8576b"
             ],
             [
              0.6666666666666666,
              "#ed7953"
             ],
             [
              0.7777777777777778,
              "#fb9f3a"
             ],
             [
              0.8888888888888888,
              "#fdca26"
             ],
             [
              1,
              "#f0f921"
             ]
            ],
            "type": "surface"
           }
          ],
          "table": [
           {
            "cells": {
             "fill": {
              "color": "#EBF0F8"
             },
             "line": {
              "color": "white"
             }
            },
            "header": {
             "fill": {
              "color": "#C8D4E3"
             },
             "line": {
              "color": "white"
             }
            },
            "type": "table"
           }
          ]
         },
         "layout": {
          "annotationdefaults": {
           "arrowcolor": "#2a3f5f",
           "arrowhead": 0,
           "arrowwidth": 1
          },
          "autotypenumbers": "strict",
          "coloraxis": {
           "colorbar": {
            "outlinewidth": 0,
            "ticks": ""
           }
          },
          "colorscale": {
           "diverging": [
            [
             0,
             "#8e0152"
            ],
            [
             0.1,
             "#c51b7d"
            ],
            [
             0.2,
             "#de77ae"
            ],
            [
             0.3,
             "#f1b6da"
            ],
            [
             0.4,
             "#fde0ef"
            ],
            [
             0.5,
             "#f7f7f7"
            ],
            [
             0.6,
             "#e6f5d0"
            ],
            [
             0.7,
             "#b8e186"
            ],
            [
             0.8,
             "#7fbc41"
            ],
            [
             0.9,
             "#4d9221"
            ],
            [
             1,
             "#276419"
            ]
           ],
           "sequential": [
            [
             0,
             "#0d0887"
            ],
            [
             0.1111111111111111,
             "#46039f"
            ],
            [
             0.2222222222222222,
             "#7201a8"
            ],
            [
             0.3333333333333333,
             "#9c179e"
            ],
            [
             0.4444444444444444,
             "#bd3786"
            ],
            [
             0.5555555555555556,
             "#d8576b"
            ],
            [
             0.6666666666666666,
             "#ed7953"
            ],
            [
             0.7777777777777778,
             "#fb9f3a"
            ],
            [
             0.8888888888888888,
             "#fdca26"
            ],
            [
             1,
             "#f0f921"
            ]
           ],
           "sequentialminus": [
            [
             0,
             "#0d0887"
            ],
            [
             0.1111111111111111,
             "#46039f"
            ],
            [
             0.2222222222222222,
             "#7201a8"
            ],
            [
             0.3333333333333333,
             "#9c179e"
            ],
            [
             0.4444444444444444,
             "#bd3786"
            ],
            [
             0.5555555555555556,
             "#d8576b"
            ],
            [
             0.6666666666666666,
             "#ed7953"
            ],
            [
             0.7777777777777778,
             "#fb9f3a"
            ],
            [
             0.8888888888888888,
             "#fdca26"
            ],
            [
             1,
             "#f0f921"
            ]
           ]
          },
          "colorway": [
           "#636efa",
           "#EF553B",
           "#00cc96",
           "#ab63fa",
           "#FFA15A",
           "#19d3f3",
           "#FF6692",
           "#B6E880",
           "#FF97FF",
           "#FECB52"
          ],
          "font": {
           "color": "#2a3f5f"
          },
          "geo": {
           "bgcolor": "white",
           "lakecolor": "white",
           "landcolor": "#E5ECF6",
           "showlakes": true,
           "showland": true,
           "subunitcolor": "white"
          },
          "hoverlabel": {
           "align": "left"
          },
          "hovermode": "closest",
          "mapbox": {
           "style": "light"
          },
          "paper_bgcolor": "white",
          "plot_bgcolor": "#E5ECF6",
          "polar": {
           "angularaxis": {
            "gridcolor": "white",
            "linecolor": "white",
            "ticks": ""
           },
           "bgcolor": "#E5ECF6",
           "radialaxis": {
            "gridcolor": "white",
            "linecolor": "white",
            "ticks": ""
           }
          },
          "scene": {
           "xaxis": {
            "backgroundcolor": "#E5ECF6",
            "gridcolor": "white",
            "gridwidth": 2,
            "linecolor": "white",
            "showbackground": true,
            "ticks": "",
            "zerolinecolor": "white"
           },
           "yaxis": {
            "backgroundcolor": "#E5ECF6",
            "gridcolor": "white",
            "gridwidth": 2,
            "linecolor": "white",
            "showbackground": true,
            "ticks": "",
            "zerolinecolor": "white"
           },
           "zaxis": {
            "backgroundcolor": "#E5ECF6",
            "gridcolor": "white",
            "gridwidth": 2,
            "linecolor": "white",
            "showbackground": true,
            "ticks": "",
            "zerolinecolor": "white"
           }
          },
          "shapedefaults": {
           "line": {
            "color": "#2a3f5f"
           }
          },
          "ternary": {
           "aaxis": {
            "gridcolor": "white",
            "linecolor": "white",
            "ticks": ""
           },
           "baxis": {
            "gridcolor": "white",
            "linecolor": "white",
            "ticks": ""
           },
           "bgcolor": "#E5ECF6",
           "caxis": {
            "gridcolor": "white",
            "linecolor": "white",
            "ticks": ""
           }
          },
          "title": {
           "x": 0.05
          },
          "xaxis": {
           "automargin": true,
           "gridcolor": "white",
           "linecolor": "white",
           "ticks": "",
           "title": {
            "standoff": 15
           },
           "zerolinecolor": "white",
           "zerolinewidth": 2
          },
          "yaxis": {
           "automargin": true,
           "gridcolor": "white",
           "linecolor": "white",
           "ticks": "",
           "title": {
            "standoff": 15
           },
           "zerolinecolor": "white",
           "zerolinewidth": 2
          }
         }
        },
        "title": {
         "text": "PCA of Tweet Data in 3D"
        }
       }
      }
     },
     "metadata": {},
     "output_type": "display_data"
    },
    {
     "data": {
      "image/png": "[encoded data removed]",
      "text/plain": [
       "<Figure size 1200x800 with 2 Axes>"
      ]
     },
     "metadata": {},
     "output_type": "display_data"
    },
    {
     "name": "stdout",
     "output_type": "stream",
     "text": [
      "\n",
      "Top 10 palabras más repetidas por grupo:\n",
      "Cluster       Word    8    1    4    2   14   13    0    9   11   12    6  \\\n",
      "0        afterwork  0.0  0.0  0.0  1.0  0.0  0.0  0.0  0.0  0.0  0.0  0.0   \n",
      "1            arent  0.0  0.0  0.0  0.0  0.0  0.0  0.0  0.0  0.0  0.0  1.0   \n",
      "2             away  0.0  0.0  0.0  0.0  0.0  0.0  0.0  0.0  0.0  0.0  0.0   \n",
      "3              bad  1.0  0.0  0.0  0.0  0.0  0.0  0.0  0.0  0.0  0.0  0.0   \n",
      "4            benzo  1.0  0.0  0.0  0.0  0.0  0.0  0.0  0.0  0.0  0.0  0.0   \n",
      "..             ...  ...  ...  ...  ...  ...  ...  ...  ...  ...  ...  ...   \n",
      "97           would  0.0  0.0  0.0  0.0  0.0  1.0  0.0  0.0  0.0  0.0  0.0   \n",
      "98              ya  0.0  0.0  0.0  0.0  0.0  0.0  0.0  0.0  0.0  0.0  3.0   \n",
      "99             yea  0.0  0.0  0.0  0.0  0.0  0.0  0.0  0.0  0.0  0.0  1.0   \n",
      "100           yeah  0.0  0.0  0.0  1.0  0.0  0.0  0.0  0.0  0.0  0.0  0.0   \n",
      "101           your  0.0  0.0  0.0  0.0  3.0  0.0  0.0  0.0  0.0  0.0  0.0   \n",
      "\n",
      "Cluster    5    3    7   10  \n",
      "0        0.0  0.0  0.0  0.0  \n",
      "1        0.0  0.0  0.0  0.0  \n",
      "2        1.0  0.0  0.0  0.0  \n",
      "3        0.0  0.0  0.0  0.0  \n",
      "4        0.0  0.0  0.0  0.0  \n",
      "..       ...  ...  ...  ...  \n",
      "97       0.0  0.0  0.0  0.0  \n",
      "98       0.0  0.0  0.0  0.0  \n",
      "99       0.0  0.0  0.0  0.0  \n",
      "100      0.0  0.0  0.0  0.0  \n",
      "101      0.0  0.0  0.0  0.0  \n",
      "\n",
      "[102 rows x 16 columns]\n"
     ]
    }
   ],
   "source": [
    "import pandas as pd\n",
    "import numpy as np\n",
    "from sklearn.decomposition import PCA\n",
    "from sklearn.feature_extraction.text import TfidfVectorizer\n",
    "from sklearn.preprocessing import StandardScaler\n",
    "from sklearn.metrics.pairwise import cosine_distances\n",
    "from sklearn_extra.cluster import KMedoids\n",
    "import nltk\n",
    "from nltk.corpus import stopwords, words\n",
    "from nltk.stem import PorterStemmer\n",
    "import string\n",
    "import plotly.express as px\n",
    "import matplotlib.pyplot as plt\n",
    "import seaborn as sns\n",
    "\n",
    "# Descargar recursos de nltk\n",
    "nltk.download('stopwords')\n",
    "nltk.download('words')\n",
    "\n",
    "# Inicializar el stemmer y el conjunto de palabras válidas\n",
    "stemmer = PorterStemmer()\n",
    "valid_words = set(words.words())\n",
    "\n",
    "# Función de preprocesamiento del texto\n",
    "def preprocess_text(text):\n",
    "    if not isinstance(text, str):\n",
    "        return \"\"\n",
    "    stop_words = set(stopwords.words('english'))  # Conjunto de stop words en inglés\n",
    "    text = text.lower()  # Convertir el texto a minúsculas\n",
    "    text = ''.join([char for char in text if char not in string.punctuation])  # Eliminar la puntuación\n",
    "    words_list = text.split()\n",
    "    words_list = [word for word in words_list if word not in stop_words]  # Eliminar stop words\n",
    "    words_list = [stemmer.stem(word) for word in words_list]  # Aplicar stemming\n",
    "    words_list = [word for word in words_list if word in valid_words]  # Eliminar palabras no válidas\n",
    "    text = ' '.join(words_list)\n",
    "    return text\n",
    "\n",
    "# Leer el archivo CSV con codificación ISO-8859-1 y seleccionar filas al azar\n",
    "def read_csv(file_path, num_rows=None, seed=42):\n",
    "    df = pd.read_csv(file_path, encoding='ISO-8859-1')\n",
    "    if num_rows is not None:\n",
    "        df = df.sample(n=num_rows, random_state=seed)\n",
    "    return df\n",
    "\n",
    "# Convertir los textos a vectores TF-IDF y obtener la palabra más representativa\n",
    "def get_top_word(text, vectorizer):\n",
    "    tfidf_matrix = vectorizer.transform([text])  # Transformar el texto en una matriz TF-IDF\n",
    "    feature_array = np.array(vectorizer.get_feature_names_out())  # Obtener los nombres de las características (palabras)\n",
    "    tfidf_sorting = np.argsort(tfidf_matrix.toarray()).flatten()[::-1]  # Ordenar los puntajes TF-IDF en orden descendente\n",
    "    top_word = feature_array[tfidf_sorting][0]  # Obtener la palabra con el puntaje más alto\n",
    "    return top_word\n",
    "\n",
    "# Obtener las palabras más frecuentes de cada cluster y generar el listado\n",
    "def get_top_words_per_cluster(df, num_top_words=10):\n",
    "    cluster_words = {}\n",
    "    for cluster in df['cluster'].unique():\n",
    "        words = ' '.join(df[df['cluster'] == cluster]['cleaned_text']).split()\n",
    "        word_freq = pd.Series(words).value_counts().head(num_top_words)\n",
    "        cluster_words[cluster] = word_freq\n",
    "        print(f\"\\nTop {num_top_words} words in cluster {cluster}:\")\n",
    "        for word, count in word_freq.items():\n",
    "            print(f\"{word}: {count}\")\n",
    "    return pd.DataFrame(cluster_words).fillna(0)\n",
    "\n",
    "# Función principal para realizar el análisis PCA\n",
    "def pca_analysis(file_path, num_rows=None, n_clusters=5, seed=42):\n",
    "    # Leer el archivo CSV\n",
    "    df = read_csv(file_path, num_rows, seed)\n",
    "    \n",
    "    # Asegurarse de que todas las entradas en la columna 'text' sean cadenas de texto\n",
    "    df['text'] = df['text'].astype(str)\n",
    "    \n",
    "    # Preprocesar los textos\n",
    "    df['cleaned_text'] = df['text'].apply(preprocess_text)\n",
    "    \n",
    "    # Convertir los textos a vectores TF-IDF\n",
    "    vectorizer = TfidfVectorizer()\n",
    "    X = vectorizer.fit_transform(df['cleaned_text']).toarray()\n",
    "    \n",
    "    # Obtener la palabra más representativa\n",
    "    df['top_word'] = df['cleaned_text'].apply(lambda x: get_top_word(x, vectorizer))\n",
    "    \n",
    "    # Estandarizar los datos\n",
    "    scaler = StandardScaler()\n",
    "    X_scaled = scaler.fit_transform(X)\n",
    "    \n",
    "    # Ajustar el número de clusters basado en el número de inliers\n",
    "    n_clusters = min(n_clusters, X_scaled.shape[0])\n",
    "    \n",
    "    # Aplicar PCA con tres componentes\n",
    "    pca = PCA(n_components=3)\n",
    "    principal_components = pca.fit_transform(X_scaled)\n",
    "    \n",
    "    df_pca = pd.DataFrame(data=principal_components, columns=['PC1', 'PC2', 'PC3'])\n",
    "    df_pca['top_word'] = df['top_word'].values\n",
    "    \n",
    "    # Calcular la matriz de distancias coseno\n",
    "    distance_matrix = cosine_distances(X_scaled)\n",
    "    \n",
    "    # Clustering con K-Medoids y distancia de similitud coseno\n",
    "    kmedoids = KMedoids(n_clusters=n_clusters, metric='precomputed', random_state=seed)\n",
    "    clusters = kmedoids.fit_predict(distance_matrix)\n",
    "    df_pca['cluster'] = clusters\n",
    "    df['cluster'] = clusters\n",
    "    \n",
    "    # Agregar etiquetas numéricas a cada punto en el gráfico\n",
    "    df_pca['label'] = df_pca.index\n",
    "    \n",
    "    # Visualización interactiva en 3D con plotly\n",
    "    fig = px.scatter_3d(df_pca, x='PC1', y='PC2', z='PC3', color='cluster', title='PCA of Tweet Data in 3D', \n",
    "                        labels={'PC1': 'Principal Component 1', 'PC2': 'Principal Component 2', 'PC3': 'Principal Component 3'},\n",
    "                        hover_name='top_word')\n",
    "    \n",
    "    fig.update_traces(marker=dict(size=3))  # Hacer los puntos más pequeños\n",
    "    fig.update_layout(scene=dict(\n",
    "                        xaxis_title='Principal Component 1',\n",
    "                        yaxis_title='Principal Component 2',\n",
    "                        zaxis_title='Principal Component 3'),\n",
    "                      margin=dict(l=0, r=0, b=0, t=40))\n",
    "    \n",
    "    # Guardar el gráfico interactivo en un archivo HTML\n",
    "    fig.write_html(\"pca_tweet_data.html\")\n",
    "    \n",
    "    fig.show()\n",
    "    \n",
    "    # Obtener y mostrar las palabras más frecuentes por cluster\n",
    "    top_words_df = get_top_words_per_cluster(df)\n",
    "    \n",
    "    # Formatear la tabla de palabras agrupadas\n",
    "    top_words_df.index.name = 'Word'\n",
    "    top_words_df.columns.name = 'Cluster'\n",
    "    top_words_df.reset_index(inplace=True)\n",
    "    \n",
    "    # Mostrar la tabla de palabras agrupadas\n",
    "    plt.figure(figsize=(12, 8))\n",
    "    sns.heatmap(top_words_df.set_index('Word'), annot=True, fmt='g', cmap='viridis')\n",
    "    plt.title('Top 10 Words by Cluster')\n",
    "    plt.xlabel('Cluster')\n",
    "    plt.ylabel('Word')\n",
    "    plt.show()\n",
    "    \n",
    "    # Exportar la tabla a un archivo Excel\n",
    "    top_words_df.to_excel(\"top_words_by_cluster.xlsx\", index=False)\n",
    "    \n",
    "    return top_words_df\n",
    "\n",
    "# Ejemplo de uso\n",
    "file_path = 'C:/Users/nicol/OneDrive/MIA/Cursos/Aprendizaje Sup/Proyecto de Aplicacion/REPO GITHUB/proyecto-final-machine-learning/dataset/train.csv'  # Ruta actualizada del archivo CSV\n",
    "num_rows = 100  # Número de filas a considerar para el análisis, None para usar todas las filas\n",
    "n_clusters = 5  # Número de clusters\n",
    "seed = 42  # Semilla para la selección aleatoria\n",
    "\n",
    "top_words_df = pca_analysis(file_path, num_rows, n_clusters, seed)\n",
    "\n",
    "# Mostrar la tabla de palabras agrupadas\n",
    "print(\"\\nTop 10 palabras más repetidas por grupo:\")\n",
    "print(top_words_df)\n"
   ]
  }
 ],
 "metadata": {
  "kernelspec": {
   "display_name": "Python 3",
   "language": "python",
   "name": "python3"
  },
  "language_info": {
   "codemirror_mode": {
    "name": "ipython",
    "version": 3
   },
   "file_extension": ".py",
   "mimetype": "text/x-python",
   "name": "python",
   "nbconvert_exporter": "python",
   "pygments_lexer": "ipython3",
   "version": "3.12.3"
  }
 },
 "nbformat": 4,
 "nbformat_minor": 2
}
