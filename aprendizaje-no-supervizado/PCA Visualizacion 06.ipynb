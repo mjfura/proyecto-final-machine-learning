{
 "cells": [
  {
   "cell_type": "code",
   "execution_count": 1,
   "metadata": {},
   "outputs": [
    {
     "name": "stderr",
     "output_type": "stream",
     "text": [
      "[nltk_data] Downloading package stopwords to\n",
      "[nltk_data]     C:\\Users\\nicol\\AppData\\Roaming\\nltk_data...\n",
      "[nltk_data]   Package stopwords is already up-to-date!\n"
     ]
    },
    {
     "data": {
      "application/vnd.plotly.v1+json": {
       "config": {
        "plotlyServerURL": "https://plot.ly"
       },
       "data": [
        {
         "hovertemplate": "Principal Component 1=%{x}<br>Principal Component 2=%{y}<br>Principal Component 3=%{z}<br>top_word=%{text}<br>cluster=%{marker.color}<extra></extra>",
         "legendgroup": "",
         "marker": {
          "color": [
           1,
           3,
           0,
           0,
           0,
           0,
           0,
           0,
           0,
           0,
           2,
           0,
           0,
           1,
           0,
           0,
           0,
           0,
           3,
           0,
           2,
           1,
           0,
           0,
           0,
           2,
           2,
           0,
           0,
           3,
           1,
           0,
           4,
           0,
           2,
           0,
           3,
           4,
           4,
           0,
           1,
           2,
           0,
           0,
           2,
           0,
           1,
           0,
           1,
           4,
           1,
           0,
           0,
           0,
           0,
           0,
           0,
           3,
           0,
           0,
           1,
           0,
           0,
           3,
           4,
           0,
           0,
           2,
           0,
           0,
           0,
           0,
           0,
           3,
           0,
           2,
           0,
           0,
           0,
           1,
           0,
           2,
           0,
           0,
           2,
           0,
           4,
           3,
           3,
           1,
           0,
           4,
           1,
           3,
           0,
           0,
           3,
           0,
           3,
           0
          ],
          "coloraxis": "coloraxis",
          "symbol": "circle"
         },
         "mode": "markers+text",
         "name": "",
         "scene": "scene",
         "showlegend": false,
         "text": [
          "respond",
          "diego",
          "bulli",
          "leav",
          "releas",
          "httpwwwdothebouncycomsmf",
          "2am",
          "soooo",
          "â½",
          "cooler",
          "minim",
          "realli",
          "low",
          "voic",
          "test",
          "uh",
          "altern",
          "look",
          "everi",
          "he",
          "soon",
          "pet",
          "clean",
          "rebooti",
          "friday",
          "app",
          "sorri",
          "twit",
          "backk",
          "power",
          "quiteheavenli",
          "unni",
          "obes",
          "cute",
          "slept",
          "httpbitly2hpbg4",
          "ny",
          "ton",
          "todaysniffl",
          "itsm",
          "big",
          "magazin",
          "mayday",
          "encor",
          "love",
          "salon",
          "drunk",
          "friendster",
          "like",
          "week",
          "hate",
          "bore",
          "us",
          "dissappoint",
          "zero",
          "morn",
          "cowork",
          "httpplurkcomprp3k7",
          "ace",
          "speak",
          "sleepyi",
          "haha",
          "easili",
          "wine",
          "iphon",
          "photoshoot",
          "he",
          "play",
          "chilliin",
          "know",
          "smell",
          "sound",
          "etc",
          "one",
          "talk",
          "ill",
          "baddd",
          "sourc",
          "sooo",
          "tell",
          "yyyyyyyyyoooooooooouuuuu",
          "oz",
          "asleep",
          "flu",
          "parodi",
          "holiday",
          "essex",
          "annoy",
          "bbi",
          "isnt",
          "fran",
          "mounc",
          "join",
          "pill",
          "ice",
          "mother",
          "gone",
          "unfortun",
          "night",
          "saw"
         ],
         "type": "scatter3d",
         "x": [
          -0.2532569031817973,
          -0.27242996684923193,
          -0.18460819893998381,
          -0.2136641006245207,
          -0.3051123715589373,
          -0.3371780493022791,
          -0.30792466380944833,
          -0.1846081989399792,
          -0.15714865146324378,
          -0.27245042957447757,
          -0.7032436254855973,
          -0.3297269052467317,
          -0.29455784903846716,
          -0.3490577405026363,
          -0.23907823839545286,
          -0.2118816831680884,
          -0.2951976144031677,
          -0.7437736895906987,
          -0.3714571518808656,
          -0.17637732199776124,
          -0.35777372166796123,
          -0.2640769717791887,
          -0.16173452941249467,
          -0.5554458714069442,
          -0.7290655145803335,
          -0.4001455181510652,
          -0.281071114973514,
          -0.2706709617824553,
          -0.5744835391010416,
          -0.3703290852311182,
          -0.3335352951525247,
          -0.31492414117437373,
          -0.6608967660539944,
          -0.23919436144192427,
          -0.6624085647591941,
          -0.5364777844587166,
          -0.660484168068293,
          3.4146761039239757,
          -0.346553665894167,
          -0.6592660104168206,
          -0.6679505947557327,
          -0.29161319514369466,
          -0.1697752626070105,
          -2.595085258941557,
          -0.6188772412121178,
          -0.5185454790256379,
          -0.6937068598649122,
          -0.20228110812670813,
          -1.0174335997442685,
          -0.15947166540840485,
          -0.30431314210416816,
          -0.3384369386943422,
          -0.2022811081267071,
          -0.2654180328113522,
          -0.2053027286604259,
          -0.27312573281198105,
          -0.45655225284119993,
          -0.2512910146213658,
          -0.2501819340487508,
          -0.25255863322487865,
          -0.39605837906898433,
          -0.19186370302525052,
          -0.20391030153018572,
          -0.758308160773446,
          -0.32376248922749784,
          -0.1697752626070108,
          -0.2961586020826539,
          -0.6982465524980338,
          -0.16977526260701067,
          -0.22916544164378114,
          -0.3290713902738503,
          -0.44953940305691903,
          36.35737375610585,
          -0.3531717060316609,
          -0.546864618576834,
          -0.60802933804038,
          -0.12072029781605682,
          -0.2145084398973164,
          -0.20399773674971114,
          -0.3490164787312141,
          -0.1846081989399815,
          -0.4382747117676175,
          -0.26284089258731985,
          -0.42125084593908374,
          -0.6712915309766041,
          -0.38416216143927534,
          -0.7048584919448726,
          -0.8023097194783141,
          -0.39216249579327056,
          -0.8981430800211532,
          -0.2917119549725351,
          -0.29818549961522833,
          -0.23655925416202508,
          -0.47319744717130613,
          -0.37908360279085535,
          -0.3055632776418172,
          -0.6355683838917153,
          -0.22369596689861324,
          -0.5672767670363317,
          -0.27388929048939564
         ],
         "y": [
          -0.3183392100909808,
          -0.3513733699485903,
          -0.2655478886368178,
          -0.31284342706437757,
          -0.5044896691865909,
          -0.541841037795566,
          0.07819574703148229,
          -0.26554788863681006,
          -0.22111278127060038,
          -0.44716298200642923,
          -1.034388627171411,
          0.015106072934936,
          -0.20273951276328428,
          -0.30281530494449843,
          -0.3204143993316723,
          -0.310465706854027,
          -0.4148557931484059,
          1.8863672278389738,
          -0.4942385794432896,
          -0.25069620763086553,
          -0.5025540274389789,
          -1.8857105403174181,
          -0.45808243206725024,
          -1.117544493522655,
          -1.7042146194088177,
          -0.09804656091128176,
          -0.34233429954008393,
          -0.42541387784944457,
          -0.17425504859731203,
          -0.47374862536734197,
          -0.6255049196587045,
          -0.4794876098920141,
          -0.8073535809451414,
          -0.3728472883654432,
          -0.8828391749213225,
          -1.0651288551928448,
          0.4070904166987633,
          -1.3868136265603093,
          -0.4844859385143265,
          -1.0107688484535102,
          -0.6800498621972159,
          -0.3915502529514545,
          -0.24130173588176843,
          33.88158749210989,
          -0.6271302834070075,
          -0.5768611883555205,
          -1.0383139475755851,
          -0.29521086518373274,
          2.6824602288117005,
          -0.7922058926509599,
          -0.3854514943550362,
          -0.3580419551640762,
          -0.2952108651837333,
          -0.24883772540082805,
          -0.30159135387553326,
          -0.41827017795074234,
          -0.8575802037326735,
          -0.3665448141150858,
          -0.38013716506825496,
          0.31061229728194795,
          -0.5456649945295632,
          -0.2764162121398301,
          -0.30428138436122254,
          -1.4741238229742883,
          -0.4950654177970813,
          -0.24130173588176781,
          -0.39204957041070715,
          1.8195338992752899,
          -0.24130173588176917,
          -0.35883236308998484,
          0.6010903888882287,
          -0.32330053325036684,
          2.219921320092261,
          -0.49620461906283425,
          -0.9927502503246706,
          0.4015928069820426,
          -0.5104324645284395,
          -0.2717616138107728,
          -0.2928526810659085,
          -0.32911113609810266,
          -0.26554788863680734,
          -0.7393239768027936,
          -0.4256068239957572,
          1.692746028257617,
          0.3372195096988538,
          -0.5729648503286827,
          -1.2098024853649667,
          0.3084369245669531,
          -0.512023300509827,
          -0.18811162664616138,
          -0.4040316710609683,
          -0.4039680895011942,
          -0.29743890574904325,
          -0.610574826091569,
          -0.5144699819706973,
          -0.4328374353746195,
          -1.5470853197808174,
          -0.332334193220104,
          -1.1104274042006816,
          -0.41966450952929774
         ],
         "z": [
          -0.3854986107394794,
          -0.45522896152648445,
          -0.24726447207680763,
          -0.3054199127388471,
          -0.8427215566211843,
          -0.5480247336222833,
          -0.4469621160467776,
          -0.24726447207680408,
          -0.19794819204782016,
          -0.2830829451178537,
          -0.8071761032804414,
          1.3005450345056195,
          -0.6296166683395142,
          -0.4723033002965563,
          -0.1111100362763503,
          -0.299024305485889,
          -0.3687286097155743,
          -2.0831396631472985,
          -0.25864113967528024,
          -0.22912705401855535,
          -0.4526175729410778,
          23.88665576173199,
          0.5994303533657179,
          -3.51805097275909,
          -2.2203778553416744,
          -0.6467059873234943,
          -0.27494193063553357,
          -0.5710650380386347,
          -1.5312697577054424,
          -0.3576210231780461,
          0.9865753384008137,
          -0.4926983960241666,
          -0.1996303447895437,
          -0.5227191676890695,
          0.40642495508248344,
          -3.2122219604190003,
          -1.086850875957089,
          16.384847852657657,
          -0.2542003012930956,
          -1.6970742550909206,
          -0.8327445644916156,
          -0.41014110193883874,
          -0.2198749458373998,
          1.8114168034540932,
          -1.7972382592135983,
          -2.2884646670392703,
          -1.3018536362515984,
          -0.2824487305009799,
          -3.0354834428709476,
          2.502279020258007,
          -0.47140738351496636,
          1.3894209003214,
          -0.2824487305009796,
          -0.49714950485094145,
          -0.3012764995012873,
          -0.45575971249087577,
          1.532075584439798,
          -0.293702683813807,
          -0.39480572716256546,
          -0.28737527354734,
          -0.5481628538585387,
          -0.2659289918387415,
          -0.3209099436045776,
          -3.907327920008603,
          -0.20483887093577702,
          -0.2198749458374003,
          -0.33646439911431053,
          1.1645011147244606,
          -0.21987494583739922,
          -0.514215244001782,
          -0.1455464515899237,
          -1.5569344417356412,
          -1.8234508320274947,
          -0.430841346100174,
          -2.638448073129173,
          -0.8712072493982904,
          1.3778127512127742,
          -0.2803051437165356,
          -0.2496411632493592,
          -0.7101483904748791,
          -0.24726447207680705,
          -0.9226344686723695,
          0.47279382865059877,
          -0.47803609747153186,
          -0.8738287095486236,
          -0.8919159202555621,
          -1.7986924975748253,
          -2.054881257311423,
          -0.6872346341332173,
          4.721853450245052,
          -0.4969164924286384,
          -0.49082181005761144,
          -0.30648032553313403,
          0.15517220005902077,
          -0.0051279382646498535,
          -0.723815867630718,
          2.536265452444129,
          -0.3293071759654047,
          4.104801517599656,
          -0.37328989020743786
         ]
        }
       ],
       "layout": {
        "coloraxis": {
         "colorbar": {
          "title": {
           "text": "cluster"
          }
         },
         "colorscale": [
          [
           0,
           "#0d0887"
          ],
          [
           0.1111111111111111,
           "#46039f"
          ],
          [
           0.2222222222222222,
           "#7201a8"
          ],
          [
           0.3333333333333333,
           "#9c179e"
          ],
          [
           0.4444444444444444,
           "#bd3786"
          ],
          [
           0.5555555555555556,
           "#d8576b"
          ],
          [
           0.6666666666666666,
           "#ed7953"
          ],
          [
           0.7777777777777778,
           "#fb9f3a"
          ],
          [
           0.8888888888888888,
           "#fdca26"
          ],
          [
           1,
           "#f0f921"
          ]
         ]
        },
        "legend": {
         "tracegroupgap": 0
        },
        "margin": {
         "b": 0,
         "l": 0,
         "r": 0,
         "t": 40
        },
        "scene": {
         "domain": {
          "x": [
           0,
           1
          ],
          "y": [
           0,
           1
          ]
         },
         "xaxis": {
          "title": {
           "text": "Principal Component 1"
          }
         },
         "yaxis": {
          "title": {
           "text": "Principal Component 2"
          }
         },
         "zaxis": {
          "title": {
           "text": "Principal Component 3"
          }
         }
        },
        "template": {
         "data": {
          "bar": [
           {
            "error_x": {
             "color": "#2a3f5f"
            },
            "error_y": {
             "color": "#2a3f5f"
            },
            "marker": {
             "line": {
              "color": "#E5ECF6",
              "width": 0.5
             },
             "pattern": {
              "fillmode": "overlay",
              "size": 10,
              "solidity": 0.2
             }
            },
            "type": "bar"
           }
          ],
          "barpolar": [
           {
            "marker": {
             "line": {
              "color": "#E5ECF6",
              "width": 0.5
             },
             "pattern": {
              "fillmode": "overlay",
              "size": 10,
              "solidity": 0.2
             }
            },
            "type": "barpolar"
           }
          ],
          "carpet": [
           {
            "aaxis": {
             "endlinecolor": "#2a3f5f",
             "gridcolor": "white",
             "linecolor": "white",
             "minorgridcolor": "white",
             "startlinecolor": "#2a3f5f"
            },
            "baxis": {
             "endlinecolor": "#2a3f5f",
             "gridcolor": "white",
             "linecolor": "white",
             "minorgridcolor": "white",
             "startlinecolor": "#2a3f5f"
            },
            "type": "carpet"
           }
          ],
          "choropleth": [
           {
            "colorbar": {
             "outlinewidth": 0,
             "ticks": ""
            },
            "type": "choropleth"
           }
          ],
          "contour": [
           {
            "colorbar": {
             "outlinewidth": 0,
             "ticks": ""
            },
            "colorscale": [
             [
              0,
              "#0d0887"
             ],
             [
              0.1111111111111111,
              "#46039f"
             ],
             [
              0.2222222222222222,
              "#7201a8"
             ],
             [
              0.3333333333333333,
              "#9c179e"
             ],
             [
              0.4444444444444444,
              "#bd3786"
             ],
             [
              0.5555555555555556,
              "#d8576b"
             ],
             [
              0.6666666666666666,
              "#ed7953"
             ],
             [
              0.7777777777777778,
              "#fb9f3a"
             ],
             [
              0.8888888888888888,
              "#fdca26"
             ],
             [
              1,
              "#f0f921"
             ]
            ],
            "type": "contour"
           }
          ],
          "contourcarpet": [
           {
            "colorbar": {
             "outlinewidth": 0,
             "ticks": ""
            },
            "type": "contourcarpet"
           }
          ],
          "heatmap": [
           {
            "colorbar": {
             "outlinewidth": 0,
             "ticks": ""
            },
            "colorscale": [
             [
              0,
              "#0d0887"
             ],
             [
              0.1111111111111111,
              "#46039f"
             ],
             [
              0.2222222222222222,
              "#7201a8"
             ],
             [
              0.3333333333333333,
              "#9c179e"
             ],
             [
              0.4444444444444444,
              "#bd3786"
             ],
             [
              0.5555555555555556,
              "#d8576b"
             ],
             [
              0.6666666666666666,
              "#ed7953"
             ],
             [
              0.7777777777777778,
              "#fb9f3a"
             ],
             [
              0.8888888888888888,
              "#fdca26"
             ],
             [
              1,
              "#f0f921"
             ]
            ],
            "type": "heatmap"
           }
          ],
          "heatmapgl": [
           {
            "colorbar": {
             "outlinewidth": 0,
             "ticks": ""
            },
            "colorscale": [
             [
              0,
              "#0d0887"
             ],
             [
              0.1111111111111111,
              "#46039f"
             ],
             [
              0.2222222222222222,
              "#7201a8"
             ],
             [
              0.3333333333333333,
              "#9c179e"
             ],
             [
              0.4444444444444444,
              "#bd3786"
             ],
             [
              0.5555555555555556,
              "#d8576b"
             ],
             [
              0.6666666666666666,
              "#ed7953"
             ],
             [
              0.7777777777777778,
              "#fb9f3a"
             ],
             [
              0.8888888888888888,
              "#fdca26"
             ],
             [
              1,
              "#f0f921"
             ]
            ],
            "type": "heatmapgl"
           }
          ],
          "histogram": [
           {
            "marker": {
             "pattern": {
              "fillmode": "overlay",
              "size": 10,
              "solidity": 0.2
             }
            },
            "type": "histogram"
           }
          ],
          "histogram2d": [
           {
            "colorbar": {
             "outlinewidth": 0,
             "ticks": ""
            },
            "colorscale": [
             [
              0,
              "#0d0887"
             ],
             [
              0.1111111111111111,
              "#46039f"
             ],
             [
              0.2222222222222222,
              "#7201a8"
             ],
             [
              0.3333333333333333,
              "#9c179e"
             ],
             [
              0.4444444444444444,
              "#bd3786"
             ],
             [
              0.5555555555555556,
              "#d8576b"
             ],
             [
              0.6666666666666666,
              "#ed7953"
             ],
             [
              0.7777777777777778,
              "#fb9f3a"
             ],
             [
              0.8888888888888888,
              "#fdca26"
             ],
             [
              1,
              "#f0f921"
             ]
            ],
            "type": "histogram2d"
           }
          ],
          "histogram2dcontour": [
           {
            "colorbar": {
             "outlinewidth": 0,
             "ticks": ""
            },
            "colorscale": [
             [
              0,
              "#0d0887"
             ],
             [
              0.1111111111111111,
              "#46039f"
             ],
             [
              0.2222222222222222,
              "#7201a8"
             ],
             [
              0.3333333333333333,
              "#9c179e"
             ],
             [
              0.4444444444444444,
              "#bd3786"
             ],
             [
              0.5555555555555556,
              "#d8576b"
             ],
             [
              0.6666666666666666,
              "#ed7953"
             ],
             [
              0.7777777777777778,
              "#fb9f3a"
             ],
             [
              0.8888888888888888,
              "#fdca26"
             ],
             [
              1,
              "#f0f921"
             ]
            ],
            "type": "histogram2dcontour"
           }
          ],
          "mesh3d": [
           {
            "colorbar": {
             "outlinewidth": 0,
             "ticks": ""
            },
            "type": "mesh3d"
           }
          ],
          "parcoords": [
           {
            "line": {
             "colorbar": {
              "outlinewidth": 0,
              "ticks": ""
             }
            },
            "type": "parcoords"
           }
          ],
          "pie": [
           {
            "automargin": true,
            "type": "pie"
           }
          ],
          "scatter": [
           {
            "fillpattern": {
             "fillmode": "overlay",
             "size": 10,
             "solidity": 0.2
            },
            "type": "scatter"
           }
          ],
          "scatter3d": [
           {
            "line": {
             "colorbar": {
              "outlinewidth": 0,
              "ticks": ""
             }
            },
            "marker": {
             "colorbar": {
              "outlinewidth": 0,
              "ticks": ""
             }
            },
            "type": "scatter3d"
           }
          ],
          "scattercarpet": [
           {
            "marker": {
             "colorbar": {
              "outlinewidth": 0,
              "ticks": ""
             }
            },
            "type": "scattercarpet"
           }
          ],
          "scattergeo": [
           {
            "marker": {
             "colorbar": {
              "outlinewidth": 0,
              "ticks": ""
             }
            },
            "type": "scattergeo"
           }
          ],
          "scattergl": [
           {
            "marker": {
             "colorbar": {
              "outlinewidth": 0,
              "ticks": ""
             }
            },
            "type": "scattergl"
           }
          ],
          "scattermapbox": [
           {
            "marker": {
             "colorbar": {
              "outlinewidth": 0,
              "ticks": ""
             }
            },
            "type": "scattermapbox"
           }
          ],
          "scatterpolar": [
           {
            "marker": {
             "colorbar": {
              "outlinewidth": 0,
              "ticks": ""
             }
            },
            "type": "scatterpolar"
           }
          ],
          "scatterpolargl": [
           {
            "marker": {
             "colorbar": {
              "outlinewidth": 0,
              "ticks": ""
             }
            },
            "type": "scatterpolargl"
           }
          ],
          "scatterternary": [
           {
            "marker": {
             "colorbar": {
              "outlinewidth": 0,
              "ticks": ""
             }
            },
            "type": "scatterternary"
           }
          ],
          "surface": [
           {
            "colorbar": {
             "outlinewidth": 0,
             "ticks": ""
            },
            "colorscale": [
             [
              0,
              "#0d0887"
             ],
             [
              0.1111111111111111,
              "#46039f"
             ],
             [
              0.2222222222222222,
              "#7201a8"
             ],
             [
              0.3333333333333333,
              "#9c179e"
             ],
             [
              0.4444444444444444,
              "#bd3786"
             ],
             [
              0.5555555555555556,
              "#d8576b"
             ],
             [
              0.6666666666666666,
              "#ed7953"
             ],
             [
              0.7777777777777778,
              "#fb9f3a"
             ],
             [
              0.8888888888888888,
              "#fdca26"
             ],
             [
              1,
              "#f0f921"
             ]
            ],
            "type": "surface"
           }
          ],
          "table": [
           {
            "cells": {
             "fill": {
              "color": "#EBF0F8"
             },
             "line": {
              "color": "white"
             }
            },
            "header": {
             "fill": {
              "color": "#C8D4E3"
             },
             "line": {
              "color": "white"
             }
            },
            "type": "table"
           }
          ]
         },
         "layout": {
          "annotationdefaults": {
           "arrowcolor": "#2a3f5f",
           "arrowhead": 0,
           "arrowwidth": 1
          },
          "autotypenumbers": "strict",
          "coloraxis": {
           "colorbar": {
            "outlinewidth": 0,
            "ticks": ""
           }
          },
          "colorscale": {
           "diverging": [
            [
             0,
             "#8e0152"
            ],
            [
             0.1,
             "#c51b7d"
            ],
            [
             0.2,
             "#de77ae"
            ],
            [
             0.3,
             "#f1b6da"
            ],
            [
             0.4,
             "#fde0ef"
            ],
            [
             0.5,
             "#f7f7f7"
            ],
            [
             0.6,
             "#e6f5d0"
            ],
            [
             0.7,
             "#b8e186"
            ],
            [
             0.8,
             "#7fbc41"
            ],
            [
             0.9,
             "#4d9221"
            ],
            [
             1,
             "#276419"
            ]
           ],
           "sequential": [
            [
             0,
             "#0d0887"
            ],
            [
             0.1111111111111111,
             "#46039f"
            ],
            [
             0.2222222222222222,
             "#7201a8"
            ],
            [
             0.3333333333333333,
             "#9c179e"
            ],
            [
             0.4444444444444444,
             "#bd3786"
            ],
            [
             0.5555555555555556,
             "#d8576b"
            ],
            [
             0.6666666666666666,
             "#ed7953"
            ],
            [
             0.7777777777777778,
             "#fb9f3a"
            ],
            [
             0.8888888888888888,
             "#fdca26"
            ],
            [
             1,
             "#f0f921"
            ]
           ],
           "sequentialminus": [
            [
             0,
             "#0d0887"
            ],
            [
             0.1111111111111111,
             "#46039f"
            ],
            [
             0.2222222222222222,
             "#7201a8"
            ],
            [
             0.3333333333333333,
             "#9c179e"
            ],
            [
             0.4444444444444444,
             "#bd3786"
            ],
            [
             0.5555555555555556,
             "#d8576b"
            ],
            [
             0.6666666666666666,
             "#ed7953"
            ],
            [
             0.7777777777777778,
             "#fb9f3a"
            ],
            [
             0.8888888888888888,
             "#fdca26"
            ],
            [
             1,
             "#f0f921"
            ]
           ]
          },
          "colorway": [
           "#636efa",
           "#EF553B",
           "#00cc96",
           "#ab63fa",
           "#FFA15A",
           "#19d3f3",
           "#FF6692",
           "#B6E880",
           "#FF97FF",
           "#FECB52"
          ],
          "font": {
           "color": "#2a3f5f"
          },
          "geo": {
           "bgcolor": "white",
           "lakecolor": "white",
           "landcolor": "#E5ECF6",
           "showlakes": true,
           "showland": true,
           "subunitcolor": "white"
          },
          "hoverlabel": {
           "align": "left"
          },
          "hovermode": "closest",
          "mapbox": {
           "style": "light"
          },
          "paper_bgcolor": "white",
          "plot_bgcolor": "#E5ECF6",
          "polar": {
           "angularaxis": {
            "gridcolor": "white",
            "linecolor": "white",
            "ticks": ""
           },
           "bgcolor": "#E5ECF6",
           "radialaxis": {
            "gridcolor": "white",
            "linecolor": "white",
            "ticks": ""
           }
          },
          "scene": {
           "xaxis": {
            "backgroundcolor": "#E5ECF6",
            "gridcolor": "white",
            "gridwidth": 2,
            "linecolor": "white",
            "showbackground": true,
            "ticks": "",
            "zerolinecolor": "white"
           },
           "yaxis": {
            "backgroundcolor": "#E5ECF6",
            "gridcolor": "white",
            "gridwidth": 2,
            "linecolor": "white",
            "showbackground": true,
            "ticks": "",
            "zerolinecolor": "white"
           },
           "zaxis": {
            "backgroundcolor": "#E5ECF6",
            "gridcolor": "white",
            "gridwidth": 2,
            "linecolor": "white",
            "showbackground": true,
            "ticks": "",
            "zerolinecolor": "white"
           }
          },
          "shapedefaults": {
           "line": {
            "color": "#2a3f5f"
           }
          },
          "ternary": {
           "aaxis": {
            "gridcolor": "white",
            "linecolor": "white",
            "ticks": ""
           },
           "baxis": {
            "gridcolor": "white",
            "linecolor": "white",
            "ticks": ""
           },
           "bgcolor": "#E5ECF6",
           "caxis": {
            "gridcolor": "white",
            "linecolor": "white",
            "ticks": ""
           }
          },
          "title": {
           "x": 0.05
          },
          "xaxis": {
           "automargin": true,
           "gridcolor": "white",
           "linecolor": "white",
           "ticks": "",
           "title": {
            "standoff": 15
           },
           "zerolinecolor": "white",
           "zerolinewidth": 2
          },
          "yaxis": {
           "automargin": true,
           "gridcolor": "white",
           "linecolor": "white",
           "ticks": "",
           "title": {
            "standoff": 15
           },
           "zerolinecolor": "white",
           "zerolinewidth": 2
          }
         }
        },
        "title": {
         "text": "PCA of Tweet Data in 3D"
        }
       }
      }
     },
     "metadata": {},
     "output_type": "display_data"
    }
   ],
   "source": [
    "import pandas as pd\n",
    "import numpy as np\n",
    "from sklearn.decomposition import PCA\n",
    "from sklearn.feature_extraction.text import TfidfVectorizer\n",
    "from sklearn.preprocessing import StandardScaler\n",
    "from sklearn.metrics.pairwise import cosine_distances\n",
    "from sklearn_extra.cluster import KMedoids\n",
    "import nltk\n",
    "from nltk.corpus import stopwords\n",
    "from nltk.stem import PorterStemmer\n",
    "import string\n",
    "import plotly.express as px\n",
    "\n",
    "# Descargar stopwords\n",
    "nltk.download('stopwords')\n",
    "\n",
    "# Inicializar el stemmer\n",
    "stemmer = PorterStemmer()\n",
    "\n",
    "# Función de preprocesamiento del texto\n",
    "def preprocess_text(text):\n",
    "    stop_words = set(stopwords.words('english'))  # Conjunto de stop words en inglés\n",
    "    text = text.lower()  # Convertir el texto a minúsculas\n",
    "    text = ''.join([char for char in text if char not in string.punctuation])  # Eliminar la puntuación\n",
    "    words = text.split()\n",
    "    words = [word for word in words if word not in stop_words]  # Eliminar stop words\n",
    "    words = [stemmer.stem(word) for word in words]  # Aplicar stemming\n",
    "    text = ' '.join(words)\n",
    "    return text\n",
    "\n",
    "# Leer el archivo CSV con codificación ISO-8859-1\n",
    "def read_csv(file_path, num_rows=None):\n",
    "    df = pd.read_csv(file_path, nrows=num_rows, encoding='ISO-8859-1')\n",
    "    return df\n",
    "\n",
    "# Convertir los textos a vectores TF-IDF y obtener la palabra más representativa\n",
    "def get_top_word(text, vectorizer):\n",
    "    tfidf_matrix = vectorizer.transform([text])  # Transformar el texto en una matriz TF-IDF\n",
    "    feature_array = np.array(vectorizer.get_feature_names_out())  # Obtener los nombres de las características (palabras)\n",
    "    tfidf_sorting = np.argsort(tfidf_matrix.toarray()).flatten()[::-1]  # Ordenar los puntajes TF-IDF en orden descendente\n",
    "    top_word = feature_array[tfidf_sorting][0]  # Obtener la palabra con el puntaje más alto\n",
    "    return top_word\n",
    "\n",
    "# Función principal para realizar el análisis PCA\n",
    "def pca_analysis(file_path, num_rows=None):\n",
    "    # Leer el archivo CSV\n",
    "    df = read_csv(file_path, num_rows)\n",
    "    \n",
    "    # Preprocesar los textos\n",
    "    df['cleaned_text'] = df['text'].apply(preprocess_text)\n",
    "    \n",
    "    # Convertir los textos a vectores TF-IDF\n",
    "    vectorizer = TfidfVectorizer()\n",
    "    X = vectorizer.fit_transform(df['cleaned_text']).toarray()\n",
    "    \n",
    "    # Obtener la palabra más representativa\n",
    "    df['top_word'] = df['cleaned_text'].apply(lambda x: get_top_word(x, vectorizer))\n",
    "    \n",
    "    # Estandarizar los datos\n",
    "    scaler = StandardScaler()\n",
    "    X_scaled = scaler.fit_transform(X)\n",
    "    \n",
    "    # Aplicar PCA con tres componentes\n",
    "    pca = PCA(n_components=3)\n",
    "    principal_components = pca.fit_transform(X_scaled)\n",
    "    \n",
    "    df_pca = pd.DataFrame(data=principal_components, columns=['PC1', 'PC2', 'PC3'])\n",
    "    df_pca['top_word'] = df['top_word']\n",
    "    \n",
    "    # Clustering con K-Medoids y distancia de similitud coseno\n",
    "    distance_matrix = cosine_distances(X)\n",
    "    kmedoids = KMedoids(n_clusters=5, metric='precomputed', random_state=42)\n",
    "    clusters = kmedoids.fit_predict(distance_matrix)\n",
    "    df_pca['cluster'] = clusters\n",
    "    \n",
    "    # Visualización interactiva en 3D con plotly\n",
    "    fig = px.scatter_3d(df_pca, x='PC1', y='PC2', z='PC3', color='cluster', text='top_word',\n",
    "                        title='PCA of Tweet Data in 3D', labels={'PC1': 'Principal Component 1', 'PC2': 'Principal Component 2', 'PC3': 'Principal Component 3'})\n",
    "    \n",
    "    fig.update_traces(marker=dict(size=5), selector=dict(mode='markers'))\n",
    "    fig.update_layout(scene=dict(\n",
    "                        xaxis_title='Principal Component 1',\n",
    "                        yaxis_title='Principal Component 2',\n",
    "                        zaxis_title='Principal Component 3'),\n",
    "                      margin=dict(l=0, r=0, b=0, t=40))\n",
    "    \n",
    "    # Guardar el gráfico interactivo en un archivo HTML\n",
    "    fig.write_html(\"pca_tweet_data.html\")\n",
    "    \n",
    "    fig.show()\n",
    "\n",
    "# Ejemplo de uso\n",
    "file_path = 'C:/Users/nicol/OneDrive/MIA/Cursos/Aprendizaje Sup/Proyecto de Aplicacion/REPO GITHUB/proyecto-final-machine-learning/dataset/train.csv'  # Reemplazar con la ruta a tu archivo CSV\n",
    "num_rows = 100  # Número de filas a considerar para el análisis, None para usar todas las filas\n",
    "\n",
    "pca_analysis(file_path, num_rows)\n"
   ]
  }
 ],
 "metadata": {
  "kernelspec": {
   "display_name": "Python 3",
   "language": "python",
   "name": "python3"
  },
  "language_info": {
   "codemirror_mode": {
    "name": "ipython",
    "version": 3
   },
   "file_extension": ".py",
   "mimetype": "text/x-python",
   "name": "python",
   "nbconvert_exporter": "python",
   "pygments_lexer": "ipython3",
   "version": "3.12.3"
  }
 },
 "nbformat": 4,
 "nbformat_minor": 2
}
