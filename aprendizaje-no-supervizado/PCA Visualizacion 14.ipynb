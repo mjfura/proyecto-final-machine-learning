{
 "cells": [
  {
   "cell_type": "code",
   "execution_count": 1,
   "metadata": {},
   "outputs": [
    {
     "name": "stderr",
     "output_type": "stream",
     "text": [
      "[nltk_data] Downloading package stopwords to\n",
      "[nltk_data]     C:\\Users\\nicol\\AppData\\Roaming\\nltk_data...\n",
      "[nltk_data]   Package stopwords is already up-to-date!\n",
      "[nltk_data] Downloading package words to\n",
      "[nltk_data]     C:\\Users\\nicol\\AppData\\Roaming\\nltk_data...\n",
      "[nltk_data]   Package words is already up-to-date!\n"
     ]
    },
    {
     "data": {
      "application/vnd.plotly.v1+json": {
       "config": {
        "plotlyServerURL": "https://plot.ly"
       },
       "data": [
        {
         "hovertemplate": "<b>%{hovertext}</b><br><br>Principal Component 1=%{x}<br>Principal Component 2=%{y}<br>Principal Component 3=%{z}<br>cluster=%{marker.color}<extra></extra>",
         "hovertext": [
          "point",
          "whole",
          "tri",
          "tell",
          "glad",
          "drug",
          "friend",
          "paper",
          "crochet",
          "bum",
          "hug",
          "there",
          "rich",
          "your",
          "count",
          "idea",
          "enlighten",
          "flight",
          "morn",
          "phone",
          "thing",
          "day",
          "head",
          "could",
          "haircut",
          "quot",
          "hope",
          "interest",
          "great",
          "parent",
          "watch",
          "els",
          "case",
          "away",
          "hand",
          "staff",
          "yeah",
          "damn",
          "bud",
          "woe",
          "yea",
          "switch",
          "boo",
          "mine",
          "that",
          "nice",
          "dress",
          "smash",
          "cinder",
          "what",
          "cold",
          "said",
          "month",
          "fight",
          "better",
          "victim",
          "bore",
          "center",
          "your",
          "join",
          "space",
          "feel",
          "guild",
          "charger",
          "hear",
          "mother",
          "day",
          "swine",
          "tonight",
          "buy",
          "round",
          "end",
          "era",
          "ya",
          "foot",
          "extern",
          "step",
          "music",
          "wash",
          "caviar",
          "hay",
          "set",
          "enjoy",
          "caramel",
          "know",
          "your",
          "face",
          "who",
          "that",
          "stomach",
          "cannot",
          "watch",
          "girl",
          "miss",
          "your"
         ],
         "legendgroup": "",
         "marker": {
          "color": [
           0,
           3,
           3,
           0,
           0,
           0,
           0,
           0,
           3,
           0,
           3,
           3,
           0,
           1,
           3,
           0,
           0,
           0,
           0,
           3,
           3,
           4,
           3,
           3,
           0,
           3,
           0,
           0,
           0,
           3,
           0,
           0,
           3,
           3,
           3,
           0,
           3,
           0,
           0,
           3,
           0,
           0,
           0,
           3,
           0,
           0,
           0,
           0,
           3,
           0,
           0,
           3,
           0,
           0,
           3,
           0,
           0,
           0,
           2,
           3,
           0,
           0,
           0,
           0,
           0,
           3,
           3,
           3,
           3,
           0,
           3,
           3,
           3,
           0,
           3,
           3,
           0,
           3,
           3,
           0,
           0,
           0,
           0,
           3,
           3,
           3,
           0,
           0,
           0,
           0,
           0,
           0,
           0,
           0,
           0
          ],
          "coloraxis": "coloraxis",
          "size": 3,
          "symbol": "circle"
         },
         "mode": "markers",
         "name": "",
         "scene": "scene",
         "showlegend": false,
         "type": "scatter3d",
         "x": [
          -0.20074793563223384,
          -0.25916867507559616,
          -0.2970053051268594,
          -0.29789995654127355,
          -0.3187038890976422,
          -0.20278800317308232,
          -0.2724974366373269,
          -0.2446195341377681,
          -0.5549270302873036,
          -0.39384069081436934,
          -0.34600208243066966,
          -0.1824336494751074,
          -0.35255849807629663,
          -0.1341842103564222,
          -0.417200294802619,
          -0.2876555010530498,
          -0.15208652359561656,
          -0.37100460057545664,
          -0.1520865235956167,
          -0.4063792354600531,
          -0.5765523874538476,
          -0.18407809368729505,
          -0.6280538662540175,
          -0.3880881758723344,
          -0.29987013069756385,
          -0.5002468824082024,
          -0.19267818476060097,
          -0.16369376056105994,
          -0.26564764652007417,
          -0.7535658558784246,
          -0.1944209965590968,
          -0.3494531460030671,
          -0.34269564807578,
          0.19295931383951848,
          -0.503558197860745,
          -0.3612736756416683,
          -0.5518978352597684,
          -0.1520865235956169,
          -0.26537888900831763,
          -0.33250457112230586,
          -0.3124584181036601,
          -0.20876137444172696,
          -0.16471597041692848,
          4.556793609304155,
          -0.20468777007034944,
          -0.1684780268275918,
          -0.38986206877069596,
          -0.17550117929326145,
          -2.3012595155074913,
          -0.25556548581954314,
          -0.22313053650987388,
          -0.6529426337177434,
          -0.2141427581468589,
          -0.23301445202033116,
          -0.6412037353811919,
          -0.2162055571219062,
          -0.2507140613580894,
          -0.15208652359561667,
          -0.13418421035642222,
          27.823285797246804,
          -0.17550117929326167,
          -0.17550117929326145,
          -0.3230146071815598,
          -0.2533484892059518,
          -0.25407015687510603,
          -0.27164383843757633,
          -0.18407809368729453,
          -0.9836588638701363,
          -0.4892410472456784,
          -0.31109336533196263,
          0.35510755484682877,
          -0.5867095959024485,
          -0.5124089247446701,
          -0.16657102160390416,
          -1.8800675181982136,
          -0.7623219202840931,
          -0.25358228369988955,
          -0.3835737210317464,
          -0.7623219202840984,
          -0.3261306267329046,
          -0.3219034502918445,
          -0.2918241137157262,
          -0.15208652359561692,
          -0.4057500893438014,
          -0.43075560376209243,
          -0.39096534021399687,
          -0.348782440868564,
          -0.3243918371464652,
          -0.17959803215844777,
          -0.21066442650968303,
          -0.22029932354672263,
          -0.207709432713638,
          -0.2555969635984553,
          -0.2503478138886337,
          -0.1341842103564223
         ],
         "y": [
          -0.1366621135349958,
          -0.19734813871363086,
          -0.21734538297421854,
          -0.21603283723847663,
          -0.24854202049410382,
          -0.15181526384249533,
          -0.21484971509153697,
          -0.1623830193151723,
          -0.4900004778439354,
          -0.3237880570821982,
          -0.251756860302858,
          -0.12663621562082877,
          -0.2761512581224545,
          -0.0843116602813983,
          -0.3634824857020996,
          -0.2128571851875077,
          -0.09639876239801581,
          -0.3020280898523738,
          -0.09639876239801563,
          -0.3433114809576628,
          -0.48385118651599174,
          -0.13359276695446384,
          -0.5815789671287944,
          -0.5485109810853035,
          -0.21642187946336447,
          -0.6403353293133303,
          -0.13403170142906837,
          -0.14697832698425844,
          -0.18068814259658872,
          -0.9367052709602639,
          -0.13019333639382577,
          -0.2917350555747108,
          -0.2509746080919824,
          -0.6301872934112618,
          -0.49004514913961233,
          -0.3115506861539482,
          -0.8433995711108859,
          -0.09639876239801598,
          -0.2629486316898785,
          -0.42433474422074435,
          -0.3268475279291195,
          -0.1441453986800716,
          -0.10902170099499013,
          -0.31589354347136867,
          -0.14908673140060158,
          -0.11223898499713296,
          -0.32892465420831773,
          -0.11253152547233986,
          27.26863293426116,
          -0.1785232077569102,
          -0.14889978956383795,
          -0.7567438397744423,
          -0.37003301390742044,
          -0.1680931424774441,
          -0.5427704291820364,
          -0.14323660839170177,
          -0.19248107688868385,
          -0.09639876239801598,
          -0.08431166028139658,
          1.7366003304797266,
          -0.11253152547233934,
          -0.1125315254723386,
          -0.23494852969870203,
          -0.18495373877269272,
          -0.1723978312014348,
          -0.19337084636687354,
          -0.13359276695446365,
          -1.0126579884143425,
          -0.3730587592662942,
          -0.30187689396018436,
          -0.3821318403459484,
          -0.625941100550176,
          -0.4466784181241956,
          -0.1157404642358712,
          -2.844009459936676,
          -0.6894144459524237,
          -0.16914630261467928,
          -0.2994074087173432,
          -0.6894144459524301,
          -0.2259956843911798,
          -0.28054365899058464,
          -0.22328034158676333,
          -0.09639876239801581,
          -0.3027296013134684,
          -0.3455780915480886,
          -0.29946425946628863,
          -0.32554268106013123,
          -0.23019298838022603,
          -0.11906371041937042,
          -0.15300838286348473,
          -0.16712128407386218,
          -0.15709646106092834,
          -0.17940891839185416,
          -0.19494871115972592,
          -0.0843116602813983
         ],
         "z": [
          -0.26056748674429087,
          -0.37630384645647363,
          -0.4516603379589594,
          -0.38736141374928235,
          -0.3949302747317939,
          -0.11747952140896563,
          0.10915277536241941,
          -0.3460660415715583,
          0.5528684285484984,
          -0.3725176177080521,
          -0.4905953784544031,
          -0.22917558084542045,
          -0.7158579923655881,
          -0.16743079198437255,
          -0.4395370198494013,
          -0.2442696288703143,
          -0.1936041936330213,
          -0.2780669868043622,
          -0.19360419363302114,
          -0.75070964208927,
          -1.17700923933144,
          -0.2247553127272291,
          -0.6571081711302416,
          -0.3659929914798451,
          -0.4436092565751544,
          0.300684904959844,
          -0.25679162519319676,
          -0.31784314749315323,
          -0.36190408543055014,
          -1.7247271328957716,
          -0.2544011268859291,
          -0.07106463688582429,
          -0.30182986605014234,
          -1.6345323934563938,
          0.780763424582912,
          0.02800603191428508,
          3.6989194508100542,
          -0.19360419363302173,
          1.2160436243459782,
          -0.6491956512604926,
          -0.8307469671291443,
          -0.28342606711826496,
          -0.21177147717057254,
          -0.7179273511581699,
          -0.08552318373139128,
          -0.17155643585775268,
          -0.4502065742047684,
          -0.22947686768412165,
          2.0538087376729153,
          -0.3462695123241063,
          -0.29114683035607697,
          4.584482573792435,
          0.6211964617973322,
          -0.3003870233298376,
          -0.8651446294363446,
          -0.29391760333954137,
          -0.25683496701117864,
          -0.19360419363302164,
          -0.16743079198437127,
          1.5131450371399002,
          -0.22947686768412195,
          -0.22947686768412187,
          -0.3058912333324229,
          -0.2688928259522244,
          -0.3559165364403568,
          -0.37584094083778485,
          -0.22475531272722946,
          -5.55334888655705,
          -0.7734745303069746,
          0.6190468521785025,
          -0.9185670325520765,
          1.8939741237882495,
          -0.6764141321976491,
          -0.21175407369208124,
          24.315804079319875,
          -3.119741235996487,
          -0.3645831677781508,
          -0.5059018620088267,
          -3.1197412359965164,
          -0.5166840569927166,
          -0.3992768663416637,
          -0.43439289657823293,
          -0.1936041936330213,
          -0.5853020677829138,
          -0.5436967590960013,
          -0.5881457199296797,
          0.9821096108355916,
          -0.47944663896812495,
          -0.21999835802732284,
          -0.264440587183206,
          -0.2130644075202927,
          -0.12656508340274503,
          -0.31968682805151843,
          -0.2450168650573139,
          -0.16743079198436964
         ]
        }
       ],
       "layout": {
        "coloraxis": {
         "colorbar": {
          "title": {
           "text": "cluster"
          }
         },
         "colorscale": [
          [
           0,
           "#0d0887"
          ],
          [
           0.1111111111111111,
           "#46039f"
          ],
          [
           0.2222222222222222,
           "#7201a8"
          ],
          [
           0.3333333333333333,
           "#9c179e"
          ],
          [
           0.4444444444444444,
           "#bd3786"
          ],
          [
           0.5555555555555556,
           "#d8576b"
          ],
          [
           0.6666666666666666,
           "#ed7953"
          ],
          [
           0.7777777777777778,
           "#fb9f3a"
          ],
          [
           0.8888888888888888,
           "#fdca26"
          ],
          [
           1,
           "#f0f921"
          ]
         ]
        },
        "legend": {
         "tracegroupgap": 0
        },
        "margin": {
         "b": 0,
         "l": 0,
         "r": 0,
         "t": 40
        },
        "scene": {
         "domain": {
          "x": [
           0,
           1
          ],
          "y": [
           0,
           1
          ]
         },
         "xaxis": {
          "title": {
           "text": "Principal Component 1"
          }
         },
         "yaxis": {
          "title": {
           "text": "Principal Component 2"
          }
         },
         "zaxis": {
          "title": {
           "text": "Principal Component 3"
          }
         }
        },
        "template": {
         "data": {
          "bar": [
           {
            "error_x": {
             "color": "#2a3f5f"
            },
            "error_y": {
             "color": "#2a3f5f"
            },
            "marker": {
             "line": {
              "color": "#E5ECF6",
              "width": 0.5
             },
             "pattern": {
              "fillmode": "overlay",
              "size": 10,
              "solidity": 0.2
             }
            },
            "type": "bar"
           }
          ],
          "barpolar": [
           {
            "marker": {
             "line": {
              "color": "#E5ECF6",
              "width": 0.5
             },
             "pattern": {
              "fillmode": "overlay",
              "size": 10,
              "solidity": 0.2
             }
            },
            "type": "barpolar"
           }
          ],
          "carpet": [
           {
            "aaxis": {
             "endlinecolor": "#2a3f5f",
             "gridcolor": "white",
             "linecolor": "white",
             "minorgridcolor": "white",
             "startlinecolor": "#2a3f5f"
            },
            "baxis": {
             "endlinecolor": "#2a3f5f",
             "gridcolor": "white",
             "linecolor": "white",
             "minorgridcolor": "white",
             "startlinecolor": "#2a3f5f"
            },
            "type": "carpet"
           }
          ],
          "choropleth": [
           {
            "colorbar": {
             "outlinewidth": 0,
             "ticks": ""
            },
            "type": "choropleth"
           }
          ],
          "contour": [
           {
            "colorbar": {
             "outlinewidth": 0,
             "ticks": ""
            },
            "colorscale": [
             [
              0,
              "#0d0887"
             ],
             [
              0.1111111111111111,
              "#46039f"
             ],
             [
              0.2222222222222222,
              "#7201a8"
             ],
             [
              0.3333333333333333,
              "#9c179e"
             ],
             [
              0.4444444444444444,
              "#bd3786"
             ],
             [
              0.5555555555555556,
              "#d8576b"
             ],
             [
              0.6666666666666666,
              "#ed7953"
             ],
             [
              0.7777777777777778,
              "#fb9f3a"
             ],
             [
              0.8888888888888888,
              "#fdca26"
             ],
             [
              1,
              "#f0f921"
             ]
            ],
            "type": "contour"
           }
          ],
          "contourcarpet": [
           {
            "colorbar": {
             "outlinewidth": 0,
             "ticks": ""
            },
            "type": "contourcarpet"
           }
          ],
          "heatmap": [
           {
            "colorbar": {
             "outlinewidth": 0,
             "ticks": ""
            },
            "colorscale": [
             [
              0,
              "#0d0887"
             ],
             [
              0.1111111111111111,
              "#46039f"
             ],
             [
              0.2222222222222222,
              "#7201a8"
             ],
             [
              0.3333333333333333,
              "#9c179e"
             ],
             [
              0.4444444444444444,
              "#bd3786"
             ],
             [
              0.5555555555555556,
              "#d8576b"
             ],
             [
              0.6666666666666666,
              "#ed7953"
             ],
             [
              0.7777777777777778,
              "#fb9f3a"
             ],
             [
              0.8888888888888888,
              "#fdca26"
             ],
             [
              1,
              "#f0f921"
             ]
            ],
            "type": "heatmap"
           }
          ],
          "heatmapgl": [
           {
            "colorbar": {
             "outlinewidth": 0,
             "ticks": ""
            },
            "colorscale": [
             [
              0,
              "#0d0887"
             ],
             [
              0.1111111111111111,
              "#46039f"
             ],
             [
              0.2222222222222222,
              "#7201a8"
             ],
             [
              0.3333333333333333,
              "#9c179e"
             ],
             [
              0.4444444444444444,
              "#bd3786"
             ],
             [
              0.5555555555555556,
              "#d8576b"
             ],
             [
              0.6666666666666666,
              "#ed7953"
             ],
             [
              0.7777777777777778,
              "#fb9f3a"
             ],
             [
              0.8888888888888888,
              "#fdca26"
             ],
             [
              1,
              "#f0f921"
             ]
            ],
            "type": "heatmapgl"
           }
          ],
          "histogram": [
           {
            "marker": {
             "pattern": {
              "fillmode": "overlay",
              "size": 10,
              "solidity": 0.2
             }
            },
            "type": "histogram"
           }
          ],
          "histogram2d": [
           {
            "colorbar": {
             "outlinewidth": 0,
             "ticks": ""
            },
            "colorscale": [
             [
              0,
              "#0d0887"
             ],
             [
              0.1111111111111111,
              "#46039f"
             ],
             [
              0.2222222222222222,
              "#7201a8"
             ],
             [
              0.3333333333333333,
              "#9c179e"
             ],
             [
              0.4444444444444444,
              "#bd3786"
             ],
             [
              0.5555555555555556,
              "#d8576b"
             ],
             [
              0.6666666666666666,
              "#ed7953"
             ],
             [
              0.7777777777777778,
              "#fb9f3a"
             ],
             [
              0.8888888888888888,
              "#fdca26"
             ],
             [
              1,
              "#f0f921"
             ]
            ],
            "type": "histogram2d"
           }
          ],
          "histogram2dcontour": [
           {
            "colorbar": {
             "outlinewidth": 0,
             "ticks": ""
            },
            "colorscale": [
             [
              0,
              "#0d0887"
             ],
             [
              0.1111111111111111,
              "#46039f"
             ],
             [
              0.2222222222222222,
              "#7201a8"
             ],
             [
              0.3333333333333333,
              "#9c179e"
             ],
             [
              0.4444444444444444,
              "#bd3786"
             ],
             [
              0.5555555555555556,
              "#d8576b"
             ],
             [
              0.6666666666666666,
              "#ed7953"
             ],
             [
              0.7777777777777778,
              "#fb9f3a"
             ],
             [
              0.8888888888888888,
              "#fdca26"
             ],
             [
              1,
              "#f0f921"
             ]
            ],
            "type": "histogram2dcontour"
           }
          ],
          "mesh3d": [
           {
            "colorbar": {
             "outlinewidth": 0,
             "ticks": ""
            },
            "type": "mesh3d"
           }
          ],
          "parcoords": [
           {
            "line": {
             "colorbar": {
              "outlinewidth": 0,
              "ticks": ""
             }
            },
            "type": "parcoords"
           }
          ],
          "pie": [
           {
            "automargin": true,
            "type": "pie"
           }
          ],
          "scatter": [
           {
            "fillpattern": {
             "fillmode": "overlay",
             "size": 10,
             "solidity": 0.2
            },
            "type": "scatter"
           }
          ],
          "scatter3d": [
           {
            "line": {
             "colorbar": {
              "outlinewidth": 0,
              "ticks": ""
             }
            },
            "marker": {
             "colorbar": {
              "outlinewidth": 0,
              "ticks": ""
             }
            },
            "type": "scatter3d"
           }
          ],
          "scattercarpet": [
           {
            "marker": {
             "colorbar": {
              "outlinewidth": 0,
              "ticks": ""
             }
            },
            "type": "scattercarpet"
           }
          ],
          "scattergeo": [
           {
            "marker": {
             "colorbar": {
              "outlinewidth": 0,
              "ticks": ""
             }
            },
            "type": "scattergeo"
           }
          ],
          "scattergl": [
           {
            "marker": {
             "colorbar": {
              "outlinewidth": 0,
              "ticks": ""
             }
            },
            "type": "scattergl"
           }
          ],
          "scattermapbox": [
           {
            "marker": {
             "colorbar": {
              "outlinewidth": 0,
              "ticks": ""
             }
            },
            "type": "scattermapbox"
           }
          ],
          "scatterpolar": [
           {
            "marker": {
             "colorbar": {
              "outlinewidth": 0,
              "ticks": ""
             }
            },
            "type": "scatterpolar"
           }
          ],
          "scatterpolargl": [
           {
            "marker": {
             "colorbar": {
              "outlinewidth": 0,
              "ticks": ""
             }
            },
            "type": "scatterpolargl"
           }
          ],
          "scatterternary": [
           {
            "marker": {
             "colorbar": {
              "outlinewidth": 0,
              "ticks": ""
             }
            },
            "type": "scatterternary"
           }
          ],
          "surface": [
           {
            "colorbar": {
             "outlinewidth": 0,
             "ticks": ""
            },
            "colorscale": [
             [
              0,
              "#0d0887"
             ],
             [
              0.1111111111111111,
              "#46039f"
             ],
             [
              0.2222222222222222,
              "#7201a8"
             ],
             [
              0.3333333333333333,
              "#9c179e"
             ],
             [
              0.4444444444444444,
              "#bd3786"
             ],
             [
              0.5555555555555556,
              "#d8576b"
             ],
             [
              0.6666666666666666,
              "#ed7953"
             ],
             [
              0.7777777777777778,
              "#fb9f3a"
             ],
             [
              0.8888888888888888,
              "#fdca26"
             ],
             [
              1,
              "#f0f921"
             ]
            ],
            "type": "surface"
           }
          ],
          "table": [
           {
            "cells": {
             "fill": {
              "color": "#EBF0F8"
             },
             "line": {
              "color": "white"
             }
            },
            "header": {
             "fill": {
              "color": "#C8D4E3"
             },
             "line": {
              "color": "white"
             }
            },
            "type": "table"
           }
          ]
         },
         "layout": {
          "annotationdefaults": {
           "arrowcolor": "#2a3f5f",
           "arrowhead": 0,
           "arrowwidth": 1
          },
          "autotypenumbers": "strict",
          "coloraxis": {
           "colorbar": {
            "outlinewidth": 0,
            "ticks": ""
           }
          },
          "colorscale": {
           "diverging": [
            [
             0,
             "#8e0152"
            ],
            [
             0.1,
             "#c51b7d"
            ],
            [
             0.2,
             "#de77ae"
            ],
            [
             0.3,
             "#f1b6da"
            ],
            [
             0.4,
             "#fde0ef"
            ],
            [
             0.5,
             "#f7f7f7"
            ],
            [
             0.6,
             "#e6f5d0"
            ],
            [
             0.7,
             "#b8e186"
            ],
            [
             0.8,
             "#7fbc41"
            ],
            [
             0.9,
             "#4d9221"
            ],
            [
             1,
             "#276419"
            ]
           ],
           "sequential": [
            [
             0,
             "#0d0887"
            ],
            [
             0.1111111111111111,
             "#46039f"
            ],
            [
             0.2222222222222222,
             "#7201a8"
            ],
            [
             0.3333333333333333,
             "#9c179e"
            ],
            [
             0.4444444444444444,
             "#bd3786"
            ],
            [
             0.5555555555555556,
             "#d8576b"
            ],
            [
             0.6666666666666666,
             "#ed7953"
            ],
            [
             0.7777777777777778,
             "#fb9f3a"
            ],
            [
             0.8888888888888888,
             "#fdca26"
            ],
            [
             1,
             "#f0f921"
            ]
           ],
           "sequentialminus": [
            [
             0,
             "#0d0887"
            ],
            [
             0.1111111111111111,
             "#46039f"
            ],
            [
             0.2222222222222222,
             "#7201a8"
            ],
            [
             0.3333333333333333,
             "#9c179e"
            ],
            [
             0.4444444444444444,
             "#bd3786"
            ],
            [
             0.5555555555555556,
             "#d8576b"
            ],
            [
             0.6666666666666666,
             "#ed7953"
            ],
            [
             0.7777777777777778,
             "#fb9f3a"
            ],
            [
             0.8888888888888888,
             "#fdca26"
            ],
            [
             1,
             "#f0f921"
            ]
           ]
          },
          "colorway": [
           "#636efa",
           "#EF553B",
           "#00cc96",
           "#ab63fa",
           "#FFA15A",
           "#19d3f3",
           "#FF6692",
           "#B6E880",
           "#FF97FF",
           "#FECB52"
          ],
          "font": {
           "color": "#2a3f5f"
          },
          "geo": {
           "bgcolor": "white",
           "lakecolor": "white",
           "landcolor": "#E5ECF6",
           "showlakes": true,
           "showland": true,
           "subunitcolor": "white"
          },
          "hoverlabel": {
           "align": "left"
          },
          "hovermode": "closest",
          "mapbox": {
           "style": "light"
          },
          "paper_bgcolor": "white",
          "plot_bgcolor": "#E5ECF6",
          "polar": {
           "angularaxis": {
            "gridcolor": "white",
            "linecolor": "white",
            "ticks": ""
           },
           "bgcolor": "#E5ECF6",
           "radialaxis": {
            "gridcolor": "white",
            "linecolor": "white",
            "ticks": ""
           }
          },
          "scene": {
           "xaxis": {
            "backgroundcolor": "#E5ECF6",
            "gridcolor": "white",
            "gridwidth": 2,
            "linecolor": "white",
            "showbackground": true,
            "ticks": "",
            "zerolinecolor": "white"
           },
           "yaxis": {
            "backgroundcolor": "#E5ECF6",
            "gridcolor": "white",
            "gridwidth": 2,
            "linecolor": "white",
            "showbackground": true,
            "ticks": "",
            "zerolinecolor": "white"
           },
           "zaxis": {
            "backgroundcolor": "#E5ECF6",
            "gridcolor": "white",
            "gridwidth": 2,
            "linecolor": "white",
            "showbackground": true,
            "ticks": "",
            "zerolinecolor": "white"
           }
          },
          "shapedefaults": {
           "line": {
            "color": "#2a3f5f"
           }
          },
          "ternary": {
           "aaxis": {
            "gridcolor": "white",
            "linecolor": "white",
            "ticks": ""
           },
           "baxis": {
            "gridcolor": "white",
            "linecolor": "white",
            "ticks": ""
           },
           "bgcolor": "#E5ECF6",
           "caxis": {
            "gridcolor": "white",
            "linecolor": "white",
            "ticks": ""
           }
          },
          "title": {
           "x": 0.05
          },
          "xaxis": {
           "automargin": true,
           "gridcolor": "white",
           "linecolor": "white",
           "ticks": "",
           "title": {
            "standoff": 15
           },
           "zerolinecolor": "white",
           "zerolinewidth": 2
          },
          "yaxis": {
           "automargin": true,
           "gridcolor": "white",
           "linecolor": "white",
           "ticks": "",
           "title": {
            "standoff": 15
           },
           "zerolinecolor": "white",
           "zerolinewidth": 2
          }
         }
        },
        "title": {
         "text": "PCA of Tweet Data in 3D"
        }
       }
      }
     },
     "metadata": {},
     "output_type": "display_data"
    },
    {
     "data": {
      "image/png": "[encoded data removed]",
      "text/plain": [
       "<Figure size 1200x800 with 2 Axes>"
      ]
     },
     "metadata": {},
     "output_type": "display_data"
    },
    {
     "name": "stdout",
     "output_type": "stream",
     "text": [
      "\n",
      "Top 10 palabras más repetidas por grupo:\n",
      "Cluster    Word    0     3    1    4    2\n",
      "0        cancel  2.0   0.0  0.0  0.0  0.0\n",
      "1          come  2.0   0.0  0.0  0.0  0.0\n",
      "2           day  0.0  11.0  0.0  0.0  0.0\n",
      "3          dont  3.0   3.0  0.0  0.0  0.0\n",
      "4           get  0.0   3.0  0.0  0.0  0.0\n",
      "5          glad  3.0   0.0  0.0  0.0  0.0\n",
      "6            go  0.0   5.0  0.0  0.0  0.0\n",
      "7          good  0.0   3.0  0.0  0.0  0.0\n",
      "8          hear  2.0   0.0  0.0  0.0  0.0\n",
      "9          know  3.0   4.0  0.0  0.0  0.0\n",
      "10          new  3.0   0.0  0.0  0.0  0.0\n",
      "11          one  3.0   0.0  0.0  0.0  0.0\n",
      "12         rest  0.0   3.0  0.0  0.0  0.0\n",
      "13          say  0.0   3.0  0.0  0.0  0.0\n",
      "14        still  0.0   3.0  0.0  0.0  0.0\n",
      "15        think  0.0   3.0  0.0  0.0  0.0\n",
      "16         wait  3.0   0.0  0.0  0.0  0.0\n",
      "17        watch  4.0   0.0  0.0  0.0  0.0\n",
      "\n",
      "Cluster 0:\n",
      "watch     4\n",
      "know      3\n",
      "wait      3\n",
      "dont      3\n",
      "glad      3\n",
      "one       3\n",
      "new       3\n",
      "come      2\n",
      "cancel    2\n",
      "hear      2\n",
      "Name: count, dtype: int64\n",
      "\n",
      "Cluster 3:\n",
      "day      11\n",
      "go        5\n",
      "know      4\n",
      "rest      3\n",
      "dont      3\n",
      "think     3\n",
      "say       3\n",
      "get       3\n",
      "still     3\n",
      "good      3\n",
      "Name: count, dtype: int64\n",
      "\n",
      "Cluster 1:\n",
      "Series([], Name: count, dtype: int64)\n",
      "\n",
      "Cluster 4:\n",
      "Series([], Name: count, dtype: int64)\n",
      "\n",
      "Cluster 2:\n",
      "Series([], Name: count, dtype: int64)\n"
     ]
    }
   ],
   "source": [
    "import pandas as pd\n",
    "import numpy as np\n",
    "from sklearn.decomposition import PCA\n",
    "from sklearn.feature_extraction.text import TfidfVectorizer\n",
    "from sklearn.preprocessing import StandardScaler\n",
    "from sklearn.metrics.pairwise import cosine_distances\n",
    "from sklearn_extra.cluster import KMedoids\n",
    "from sklearn.ensemble import IsolationForest\n",
    "import nltk\n",
    "from nltk.corpus import stopwords, words\n",
    "from nltk.stem import PorterStemmer\n",
    "import string\n",
    "import plotly.express as px\n",
    "import matplotlib.pyplot as plt\n",
    "import seaborn as sns\n",
    "\n",
    "# Descargar recursos de nltk\n",
    "nltk.download('stopwords')\n",
    "nltk.download('words')\n",
    "\n",
    "# Inicializar el stemmer y el conjunto de palabras válidas\n",
    "stemmer = PorterStemmer()\n",
    "valid_words = set(words.words())\n",
    "\n",
    "# Función de preprocesamiento del texto\n",
    "def preprocess_text(text):\n",
    "    if not isinstance(text, str):\n",
    "        return \"\"\n",
    "    stop_words = set(stopwords.words('english'))  # Conjunto de stop words en inglés\n",
    "    text = text.lower()  # Convertir el texto a minúsculas\n",
    "    text = ''.join([char for char in text if char not in string.punctuation])  # Eliminar la puntuación\n",
    "    words_list = text.split()\n",
    "    words_list = [word for word in words_list if word not in stop_words]  # Eliminar stop words\n",
    "    words_list = [stemmer.stem(word) for word in words_list]  # Aplicar stemming\n",
    "    words_list = [word for word in words_list if word in valid_words]  # Eliminar palabras no válidas\n",
    "    text = ' '.join(words_list)\n",
    "    return text\n",
    "\n",
    "# Leer el archivo CSV con codificación ISO-8859-1 y seleccionar filas al azar\n",
    "def read_csv(file_path, num_rows=None, seed=42):\n",
    "    df = pd.read_csv(file_path, encoding='ISO-8859-1')\n",
    "    if num_rows is not None:\n",
    "        df = df.sample(n=num_rows, random_state=seed)\n",
    "    return df\n",
    "\n",
    "# Convertir los textos a vectores TF-IDF y obtener la palabra más representativa\n",
    "def get_top_word(text, vectorizer):\n",
    "    tfidf_matrix = vectorizer.transform([text])  # Transformar el texto en una matriz TF-IDF\n",
    "    feature_array = np.array(vectorizer.get_feature_names_out())  # Obtener los nombres de las características (palabras)\n",
    "    tfidf_sorting = np.argsort(tfidf_matrix.toarray()).flatten()[::-1]  # Ordenar los puntajes TF-IDF en orden descendente\n",
    "    top_word = feature_array[tfidf_sorting][0]  # Obtener la palabra con el puntaje más alto\n",
    "    return top_word\n",
    "\n",
    "# Obtener las palabras más frecuentes de cada cluster\n",
    "def get_top_words_per_cluster(df, num_top_words=10):\n",
    "    cluster_words = {}\n",
    "    for cluster in df['cluster'].unique():\n",
    "        words = ' '.join(df[df['cluster'] == cluster]['cleaned_text']).split()\n",
    "        word_freq = pd.Series(words).value_counts().head(num_top_words)\n",
    "        cluster_words[cluster] = word_freq[word_freq > 1]  # Asegurarse de que las palabras estén en el grupo\n",
    "    return cluster_words\n",
    "\n",
    "# Función para eliminar outliers utilizando IsolationForest\n",
    "def remove_outliers(X, contamination=0.05, seed=42):\n",
    "    iso = IsolationForest(contamination=contamination, random_state=seed)\n",
    "    yhat = iso.fit_predict(X)\n",
    "    mask = yhat != -1\n",
    "    return X[mask, :], mask\n",
    "\n",
    "# Función principal para realizar el análisis PCA\n",
    "def pca_analysis(file_path, num_rows=None, n_clusters=5, seed=42, remove_outliers_option=False):\n",
    "    # Leer el archivo CSV\n",
    "    df = read_csv(file_path, num_rows, seed)\n",
    "    \n",
    "    # Asegurarse de que todas las entradas en la columna 'text' sean cadenas de texto\n",
    "    df['text'] = df['text'].astype(str)\n",
    "    \n",
    "    # Preprocesar los textos\n",
    "    df['cleaned_text'] = df['text'].apply(preprocess_text)\n",
    "    \n",
    "    # Convertir los textos a vectores TF-IDF\n",
    "    vectorizer = TfidfVectorizer()\n",
    "    X = vectorizer.fit_transform(df['cleaned_text']).toarray()\n",
    "    \n",
    "    # Eliminar outliers si la opción está activada\n",
    "    if remove_outliers_option:\n",
    "        X, mask = remove_outliers(X, seed=seed)\n",
    "        df = df[mask]\n",
    "    \n",
    "    # Obtener la palabra más representativa\n",
    "    df['top_word'] = df['cleaned_text'].apply(lambda x: get_top_word(x, vectorizer))\n",
    "    \n",
    "    # Estandarizar los datos\n",
    "    scaler = StandardScaler()\n",
    "    X_scaled = scaler.fit_transform(X)\n",
    "    \n",
    "    # Ajustar el número de clusters basado en el número de inliers\n",
    "    n_clusters = min(n_clusters, X_scaled.shape[0])\n",
    "    \n",
    "    # Aplicar PCA con tres componentes\n",
    "    pca = PCA(n_components=3)\n",
    "    principal_components = pca.fit_transform(X_scaled)\n",
    "    \n",
    "    df_pca = pd.DataFrame(data=principal_components, columns=['PC1', 'PC2', 'PC3'])\n",
    "    df_pca['top_word'] = df['top_word'].values\n",
    "    \n",
    "    # Calcular la matriz de distancias coseno\n",
    "    distance_matrix = cosine_distances(X_scaled)\n",
    "    \n",
    "    # Clustering con K-Medoids y distancia de similitud coseno\n",
    "    for attempt in range(10):\n",
    "        kmedoids = KMedoids(n_clusters=n_clusters, metric='precomputed', random_state=seed + attempt)\n",
    "        clusters = kmedoids.fit_predict(distance_matrix)\n",
    "        if len(set(clusters)) == n_clusters:\n",
    "            break\n",
    "    \n",
    "    df_pca['cluster'] = clusters\n",
    "    df['cluster'] = clusters\n",
    "    \n",
    "    # Agregar etiquetas numéricas a cada punto en el gráfico\n",
    "    df_pca['label'] = df_pca.index\n",
    "    \n",
    "    # Visualización interactiva en 3D con plotly\n",
    "    fig = px.scatter_3d(df_pca, x='PC1', y='PC2', z='PC3', color='cluster', title='PCA of Tweet Data in 3D', \n",
    "                        labels={'PC1': 'Principal Component 1', 'PC2': 'Principal Component 2', 'PC3': 'Principal Component 3'},\n",
    "                        hover_name='top_word', color_continuous_scale='plasma')\n",
    "    \n",
    "    fig.update_traces(marker=dict(size=3))  # Hacer los puntos más pequeños\n",
    "    fig.update_layout(scene=dict(\n",
    "                        xaxis_title='Principal Component 1',\n",
    "                        yaxis_title='Principal Component 2',\n",
    "                        zaxis_title='Principal Component 3'),\n",
    "                      margin=dict(l=0, r=0, b=0, t=40))\n",
    "    \n",
    "    # Guardar el gráfico interactivo en un archivo HTML\n",
    "    fig.write_html(\"pca_tweet_data.html\")\n",
    "    \n",
    "    fig.show()\n",
    "    \n",
    "    # Obtener y mostrar las palabras más frecuentes por cluster\n",
    "    top_words_dict = get_top_words_per_cluster(df)\n",
    "    top_words_df = pd.DataFrame(top_words_dict).fillna(0)\n",
    "    \n",
    "    # Formatear la tabla de palabras agrupadas\n",
    "    top_words_df.index.name = 'Word'\n",
    "    top_words_df.columns.name = 'Cluster'\n",
    "    top_words_df.reset_index(inplace=True)\n",
    "    \n",
    "    # Mostrar la tabla de palabras agrupadas\n",
    "    plt.figure(figsize=(12, 8))\n",
    "    sns.heatmap(top_words_df.set_index('Word'), annot=True, fmt='g', cmap='plasma')\n",
    "    plt.title('Top 10 Words by Cluster')\n",
    "    plt.xlabel('Cluster')\n",
    "    plt.ylabel('Word')\n",
    "    plt.show()\n",
    "    \n",
    "    # Exportar la tabla a un archivo Excel\n",
    "    top_words_df.to_excel(\"top_words_by_cluster.xlsx\", index=False)\n",
    "    \n",
    "    return top_words_df, top_words_dict\n",
    "\n",
    "# Ejemplo de uso\n",
    "file_path = 'C:/Users/nicol/OneDrive/MIA/Cursos/Aprendizaje Sup/Proyecto de Aplicacion/REPO GITHUB/proyecto-final-machine-learning/dataset/train.csv'  # Ruta actualizada del archivo CSV\n",
    "num_rows = 100  # Número de filas a considerar para el análisis, None para usar todas las filas\n",
    "n_clusters = 5  # Número de clusters\n",
    "seed = 42  # Semilla para la selección aleatoria\n",
    "remove_outliers_option = True  # Cambiar a False para no eliminar outliers\n",
    "\n",
    "top_words_df, top_words_dict = pca_analysis(file_path, num_rows, n_clusters, seed, remove_outliers_option)\n",
    "\n",
    "# Mostrar la tabla de palabras agrupadas\n",
    "print(\"\\nTop 10 palabras más repetidas por grupo:\")\n",
    "print(top_words_df)\n",
    "\n",
    "# Imprimir el listado de los grupos por separado\n",
    "for cluster, words in top_words_dict.items():\n",
    "    print(f\"\\nCluster {cluster}:\")\n",
    "    print(words)\n"
   ]
  }
 ],
 "metadata": {
  "kernelspec": {
   "display_name": "Python 3",
   "language": "python",
   "name": "python3"
  },
  "language_info": {
   "codemirror_mode": {
    "name": "ipython",
    "version": 3
   },
   "file_extension": ".py",
   "mimetype": "text/x-python",
   "name": "python",
   "nbconvert_exporter": "python",
   "pygments_lexer": "ipython3",
   "version": "3.12.3"
  }
 },
 "nbformat": 4,
 "nbformat_minor": 2
}
