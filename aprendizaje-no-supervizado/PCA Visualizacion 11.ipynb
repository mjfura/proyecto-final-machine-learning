{
 "cells": [
  {
   "cell_type": "code",
   "execution_count": 9,
   "metadata": {},
   "outputs": [
    {
     "name": "stderr",
     "output_type": "stream",
     "text": [
      "[nltk_data] Downloading package stopwords to\n",
      "[nltk_data]     C:\\Users\\nicol\\AppData\\Roaming\\nltk_data...\n",
      "[nltk_data]   Package stopwords is already up-to-date!\n",
      "[nltk_data] Downloading package words to\n",
      "[nltk_data]     C:\\Users\\nicol\\AppData\\Roaming\\nltk_data...\n",
      "[nltk_data]   Package words is already up-to-date!\n"
     ]
    },
    {
     "data": {
      "application/vnd.plotly.v1+json": {
       "config": {
        "plotlyServerURL": "https://plot.ly"
       },
       "data": [
        {
         "hovertemplate": "<b>%{hovertext}</b><br><br>Principal Component 1=%{x}<br>Principal Component 2=%{y}<br>Principal Component 3=%{z}<br>cluster=%{marker.color}<extra></extra>",
         "hovertext": [
          0,
          1,
          2,
          3,
          4,
          5,
          6,
          7,
          8,
          9,
          10,
          11,
          12,
          13,
          14,
          15,
          16,
          17,
          18,
          19,
          20,
          21,
          22,
          23,
          24,
          25,
          26,
          27,
          28,
          29,
          30,
          31,
          32,
          33,
          34,
          35,
          36,
          37,
          38,
          39,
          40,
          41,
          42,
          43,
          44,
          45,
          46,
          47,
          48,
          49,
          50,
          51,
          52,
          53,
          54,
          55,
          56,
          57,
          58,
          59,
          60,
          61,
          62,
          63,
          64,
          65,
          66,
          67,
          68,
          69,
          70,
          71,
          72,
          73,
          74,
          75,
          76,
          77,
          78,
          79,
          80,
          81,
          82,
          83,
          84,
          85,
          86,
          87,
          88,
          89,
          90,
          91,
          92,
          93,
          94,
          95,
          96,
          97,
          98,
          99
         ],
         "legendgroup": "",
         "marker": {
          "color": [
           3,
           3,
           3,
           3,
           3,
           3,
           3,
           3,
           3,
           3,
           3,
           3,
           3,
           1,
           3,
           3,
           3,
           2,
           3,
           3,
           3,
           3,
           3,
           3,
           3,
           3,
           3,
           3,
           3,
           3,
           3,
           3,
           3,
           3,
           3,
           3,
           3,
           0,
           3,
           3,
           3,
           3,
           3,
           3,
           3,
           3,
           3,
           3,
           3,
           3,
           3,
           3,
           3,
           3,
           3,
           3,
           3,
           3,
           3,
           3,
           1,
           3,
           3,
           3,
           3,
           3,
           3,
           3,
           3,
           3,
           3,
           3,
           3,
           3,
           3,
           3,
           3,
           3,
           3,
           3,
           3,
           3,
           3,
           3,
           3,
           4,
           3,
           3,
           3,
           3,
           3,
           3,
           3,
           3,
           3,
           3,
           3,
           3,
           3,
           3
          ],
          "coloraxis": "coloraxis",
          "size": 3,
          "symbol": "circle"
         },
         "mode": "markers",
         "name": "",
         "scene": "scene",
         "showlegend": false,
         "type": "scatter3d",
         "x": [
          -0.3151320699386656,
          -0.05894878041425631,
          -0.006938375761538149,
          -0.006938375761538149,
          -0.010375196681421998,
          -0.0652311024676711,
          -0.040121917546728815,
          -0.006938375761534182,
          -0.006080434649478958,
          -0.010668291750985423,
          -0.5061950012649147,
          -0.6293492899088596,
          -1.0044682845654924,
          -0.3815393776545552,
          -0.0349153624381565,
          -0.026855385823871317,
          -0.09824266383017452,
          2.0622620164388583,
          -0.12873540542396358,
          0.003584151240855848,
          -0.26557851821242257,
          -1.200550327894867,
          -0.033491818967353405,
          -0.015239833839254216,
          -0.017169167438834718,
          -0.0488588709563269,
          -0.006080434649479853,
          -0.04085194314507975,
          -0.03802270622562692,
          -0.23064217388005037,
          -0.38749191492668617,
          -0.26234115958379145,
          -0.14012275487854042,
          -0.009004805467897916,
          -0.5140488173928951,
          -0.017949518697096305,
          -0.09172632487756964,
          -0.4097277572215948,
          -0.049023666814856606,
          -0.10482933120447945,
          -5.056860583227755,
          -0.05078589699727743,
          -0.006938375761535346,
          -1.2098429495047132,
          0.19064724928288668,
          25.29407689327526,
          -0.39698904447617667,
          -0.006938375761535413,
          -10.110857193777692,
          -0.21041967087991068,
          -0.0401335437732485,
          -0.9265829230072079,
          -0.008078198678320023,
          0.08984320461371234,
          -0.006938375761535241,
          -0.04321650021890105,
          -0.3621021018237029,
          -0.059681583862532986,
          -0.015928121353715474,
          -0.04580582494784273,
          -0.3227001954701177,
          -0.006786012088305225,
          -0.011652070768602515,
          -0.8203343349827784,
          -0.02052901108830345,
          -0.006080434649479854,
          0.15477308876776144,
          -0.48607564578975626,
          -0.006080434649479854,
          -0.08010567722663886,
          -0.091737747280333,
          -1.3644237438587379,
          -0.045228220587400475,
          -0.16682796526608523,
          5.648940830865761,
          -0.27466217706058327,
          -0.02462733192175517,
          -0.022017647457592614,
          -0.034441934356284926,
          0.3791667383445354,
          -0.006938375761535211,
          -0.007623615934253629,
          -0.39115326697175024,
          -0.5487891137373265,
          -0.13197300134921433,
          0.025145085514759823,
          -0.11494600942985807,
          -1.301986686507211,
          -0.0468682453521425,
          -0.6867585057065638,
          -0.05801949895990691,
          -0.0008858755166336792,
          -0.033786825764630234,
          -0.577277482924949,
          -0.0567293167387781,
          -0.022249846372819942,
          -0.2293516045649153,
          -0.009666132120752553,
          -0.0163247077723149,
          -0.04427576062447555
         ],
         "y": [
          0.18235904223215074,
          -0.3638559467851509,
          -0.2748043109184742,
          -0.2748043109184671,
          -0.41623015325152396,
          -0.8544004469801403,
          -0.4011018087708573,
          -0.27480431091847257,
          -0.24018281017887647,
          -0.3828069020701043,
          -1.0252142062907776,
          0.8831094623632345,
          1.8550171893174165,
          0.01875103837957213,
          -0.440970524770104,
          -0.3231918535514538,
          -0.7829238938489576,
          2.3364804632670673,
          -0.5932243453583766,
          -0.290208674450798,
          -0.2287066895997933,
          -1.4667692398897914,
          -0.5060815911616012,
          -0.619463937262805,
          -0.7012841391708073,
          -0.4241472988611886,
          -0.24018281017887066,
          -0.47893250962811723,
          -0.33574527271642024,
          -0.8024745962772251,
          -0.47973904291261904,
          -0.14598122125789043,
          -0.9948654916463898,
          -0.3602605838381142,
          -0.8594322900716089,
          -0.7340744625699359,
          -0.7039293722861406,
          -3.515482421406505,
          -0.3092131732560991,
          -0.7825988865134638,
          8.889760375128455,
          -0.3530184239786574,
          -0.27480431091846946,
          2.0302371832823574,
          -0.28464816836135876,
          10.236276440598097,
          -0.22663463513772453,
          -0.2748043109184699,
          22.73500219133072,
          -1.6723515129812405,
          -0.5343989321096981,
          1.3457839614962914,
          -0.32108800934236764,
          -0.27137965094129163,
          -0.27480431091846974,
          -0.3987892302594318,
          -3.3502421710804646,
          -0.504161132602504,
          -0.6490200965953095,
          -0.3281040016766049,
          0.06752347231381534,
          -0.29412091812405056,
          -0.32552630033546914,
          -2.248432610455819,
          -0.3738165072100591,
          -0.24018281017887066,
          -0.4398392415701374,
          -0.5706723606402471,
          -0.24018281017887066,
          -0.5639612580275538,
          -0.4851005337796653,
          2.0899310585685504,
          -2.0337606064400493,
          -1.214211048727518,
          1.4744867004270563,
          -0.8109990411281085,
          -0.4718399467756692,
          -0.3397245684600524,
          -0.3025999703919054,
          -0.4709904947025835,
          -0.27480431091846974,
          -0.303537244133757,
          -0.17146261262565296,
          1.2147891165475022,
          -0.7746903016932998,
          -0.5158837145557723,
          -1.273748045585565,
          0.7007460180140905,
          -0.011686491627081848,
          -3.925870857505272,
          -0.32113876689252246,
          -0.47103031417195645,
          -0.46370990979402227,
          -0.6722913218201594,
          -0.6383210855319743,
          -0.47617336584518766,
          -1.4731633823382477,
          -0.3861199573566193,
          -0.6661452947425622,
          -0.4681772816116626
         ],
         "z": [
          -0.0828027500669372,
          -0.20915395934751219,
          -0.13098176108824836,
          -0.13098176108825235,
          -0.2163402075643202,
          -0.5578141995948483,
          -0.22751977752790697,
          -0.1309817610882543,
          -0.11265090016653419,
          -0.18526743363518722,
          -0.8853937318941583,
          -0.13230502921648807,
          0.037903950644061275,
          -0.08377036845405222,
          0.15531460855505852,
          -0.1766477314156123,
          -0.5047295425488216,
          -0.15161387853273847,
          -0.43664934466298655,
          -0.07408167813744702,
          -0.3365255927769012,
          0.20345796997177162,
          -0.21386311828129295,
          -0.3518201860512154,
          -0.41235377833925774,
          -0.3369210206681031,
          -0.11265090016653419,
          -0.6244946521854192,
          -0.18804294390055945,
          0.668903104341674,
          0.07348959437914941,
          -0.29512288334762027,
          0.5785189447545402,
          -0.1845458004983139,
          -0.6173469948078348,
          -0.43479715586766093,
          -0.04742699097297847,
          -0.04498009076921835,
          -0.27556925670454446,
          -1.409151284200443,
          0.4968998078175877,
          -0.25658517973451683,
          -0.13098176108825182,
          0.3896514566556879,
          -0.5810473632913404,
          1.1551957048034212,
          1.281008377158611,
          -0.1309817610882516,
          2.203639422981416,
          -0.11542812394837287,
          -0.30465742670726326,
          0.013547336306196742,
          -0.15643773486661053,
          -0.2810453444892882,
          -0.1309817610882517,
          -0.22457230912892368,
          23.383656532345576,
          -0.4176907048192589,
          -0.37518859882573,
          -0.19360468838764341,
          -0.04872821368707047,
          -0.16251242903919502,
          -0.18187446135644403,
          -8.493102107072804,
          -0.10340010241119843,
          -0.11265090016653401,
          0.6561903370025278,
          0.8364550087827828,
          -0.11265090016653401,
          -1.0714835695740084,
          0.1436450958291549,
          -1.3529640024504157,
          -5.535139578925217,
          -0.8428467907585012,
          -0.06414195917581635,
          -0.5520103288501722,
          -0.16840685550862908,
          -0.11924320458948848,
          -0.1251231339790787,
          -0.6964675803290767,
          -0.13098176108825121,
          -0.15061208499000017,
          -0.24709757292882145,
          -0.07166177466453062,
          -0.036206571407364864,
          -0.3857036390609408,
          -1.0987430147477177,
          -0.17700587224213649,
          -0.16206870434107948,
          6.890288759159895,
          -0.2474558658730052,
          -0.5467367745957441,
          -0.25779195888712064,
          0.05706522178102529,
          -0.3400896680878595,
          -0.843104902624253,
          -0.3220280373979974,
          -0.1941751920155044,
          -0.38945024896800035,
          -0.26667024827775265
         ]
        }
       ],
       "layout": {
        "coloraxis": {
         "colorbar": {
          "title": {
           "text": "cluster"
          }
         },
         "colorscale": [
          [
           0,
           "#0d0887"
          ],
          [
           0.1111111111111111,
           "#46039f"
          ],
          [
           0.2222222222222222,
           "#7201a8"
          ],
          [
           0.3333333333333333,
           "#9c179e"
          ],
          [
           0.4444444444444444,
           "#bd3786"
          ],
          [
           0.5555555555555556,
           "#d8576b"
          ],
          [
           0.6666666666666666,
           "#ed7953"
          ],
          [
           0.7777777777777778,
           "#fb9f3a"
          ],
          [
           0.8888888888888888,
           "#fdca26"
          ],
          [
           1,
           "#f0f921"
          ]
         ]
        },
        "legend": {
         "tracegroupgap": 0
        },
        "margin": {
         "b": 0,
         "l": 0,
         "r": 0,
         "t": 40
        },
        "scene": {
         "domain": {
          "x": [
           0,
           1
          ],
          "y": [
           0,
           1
          ]
         },
         "xaxis": {
          "title": {
           "text": "Principal Component 1"
          }
         },
         "yaxis": {
          "title": {
           "text": "Principal Component 2"
          }
         },
         "zaxis": {
          "title": {
           "text": "Principal Component 3"
          }
         }
        },
        "template": {
         "data": {
          "bar": [
           {
            "error_x": {
             "color": "#2a3f5f"
            },
            "error_y": {
             "color": "#2a3f5f"
            },
            "marker": {
             "line": {
              "color": "#E5ECF6",
              "width": 0.5
             },
             "pattern": {
              "fillmode": "overlay",
              "size": 10,
              "solidity": 0.2
             }
            },
            "type": "bar"
           }
          ],
          "barpolar": [
           {
            "marker": {
             "line": {
              "color": "#E5ECF6",
              "width": 0.5
             },
             "pattern": {
              "fillmode": "overlay",
              "size": 10,
              "solidity": 0.2
             }
            },
            "type": "barpolar"
           }
          ],
          "carpet": [
           {
            "aaxis": {
             "endlinecolor": "#2a3f5f",
             "gridcolor": "white",
             "linecolor": "white",
             "minorgridcolor": "white",
             "startlinecolor": "#2a3f5f"
            },
            "baxis": {
             "endlinecolor": "#2a3f5f",
             "gridcolor": "white",
             "linecolor": "white",
             "minorgridcolor": "white",
             "startlinecolor": "#2a3f5f"
            },
            "type": "carpet"
           }
          ],
          "choropleth": [
           {
            "colorbar": {
             "outlinewidth": 0,
             "ticks": ""
            },
            "type": "choropleth"
           }
          ],
          "contour": [
           {
            "colorbar": {
             "outlinewidth": 0,
             "ticks": ""
            },
            "colorscale": [
             [
              0,
              "#0d0887"
             ],
             [
              0.1111111111111111,
              "#46039f"
             ],
             [
              0.2222222222222222,
              "#7201a8"
             ],
             [
              0.3333333333333333,
              "#9c179e"
             ],
             [
              0.4444444444444444,
              "#bd3786"
             ],
             [
              0.5555555555555556,
              "#d8576b"
             ],
             [
              0.6666666666666666,
              "#ed7953"
             ],
             [
              0.7777777777777778,
              "#fb9f3a"
             ],
             [
              0.8888888888888888,
              "#fdca26"
             ],
             [
              1,
              "#f0f921"
             ]
            ],
            "type": "contour"
           }
          ],
          "contourcarpet": [
           {
            "colorbar": {
             "outlinewidth": 0,
             "ticks": ""
            },
            "type": "contourcarpet"
           }
          ],
          "heatmap": [
           {
            "colorbar": {
             "outlinewidth": 0,
             "ticks": ""
            },
            "colorscale": [
             [
              0,
              "#0d0887"
             ],
             [
              0.1111111111111111,
              "#46039f"
             ],
             [
              0.2222222222222222,
              "#7201a8"
             ],
             [
              0.3333333333333333,
              "#9c179e"
             ],
             [
              0.4444444444444444,
              "#bd3786"
             ],
             [
              0.5555555555555556,
              "#d8576b"
             ],
             [
              0.6666666666666666,
              "#ed7953"
             ],
             [
              0.7777777777777778,
              "#fb9f3a"
             ],
             [
              0.8888888888888888,
              "#fdca26"
             ],
             [
              1,
              "#f0f921"
             ]
            ],
            "type": "heatmap"
           }
          ],
          "heatmapgl": [
           {
            "colorbar": {
             "outlinewidth": 0,
             "ticks": ""
            },
            "colorscale": [
             [
              0,
              "#0d0887"
             ],
             [
              0.1111111111111111,
              "#46039f"
             ],
             [
              0.2222222222222222,
              "#7201a8"
             ],
             [
              0.3333333333333333,
              "#9c179e"
             ],
             [
              0.4444444444444444,
              "#bd3786"
             ],
             [
              0.5555555555555556,
              "#d8576b"
             ],
             [
              0.6666666666666666,
              "#ed7953"
             ],
             [
              0.7777777777777778,
              "#fb9f3a"
             ],
             [
              0.8888888888888888,
              "#fdca26"
             ],
             [
              1,
              "#f0f921"
             ]
            ],
            "type": "heatmapgl"
           }
          ],
          "histogram": [
           {
            "marker": {
             "pattern": {
              "fillmode": "overlay",
              "size": 10,
              "solidity": 0.2
             }
            },
            "type": "histogram"
           }
          ],
          "histogram2d": [
           {
            "colorbar": {
             "outlinewidth": 0,
             "ticks": ""
            },
            "colorscale": [
             [
              0,
              "#0d0887"
             ],
             [
              0.1111111111111111,
              "#46039f"
             ],
             [
              0.2222222222222222,
              "#7201a8"
             ],
             [
              0.3333333333333333,
              "#9c179e"
             ],
             [
              0.4444444444444444,
              "#bd3786"
             ],
             [
              0.5555555555555556,
              "#d8576b"
             ],
             [
              0.6666666666666666,
              "#ed7953"
             ],
             [
              0.7777777777777778,
              "#fb9f3a"
             ],
             [
              0.8888888888888888,
              "#fdca26"
             ],
             [
              1,
              "#f0f921"
             ]
            ],
            "type": "histogram2d"
           }
          ],
          "histogram2dcontour": [
           {
            "colorbar": {
             "outlinewidth": 0,
             "ticks": ""
            },
            "colorscale": [
             [
              0,
              "#0d0887"
             ],
             [
              0.1111111111111111,
              "#46039f"
             ],
             [
              0.2222222222222222,
              "#7201a8"
             ],
             [
              0.3333333333333333,
              "#9c179e"
             ],
             [
              0.4444444444444444,
              "#bd3786"
             ],
             [
              0.5555555555555556,
              "#d8576b"
             ],
             [
              0.6666666666666666,
              "#ed7953"
             ],
             [
              0.7777777777777778,
              "#fb9f3a"
             ],
             [
              0.8888888888888888,
              "#fdca26"
             ],
             [
              1,
              "#f0f921"
             ]
            ],
            "type": "histogram2dcontour"
           }
          ],
          "mesh3d": [
           {
            "colorbar": {
             "outlinewidth": 0,
             "ticks": ""
            },
            "type": "mesh3d"
           }
          ],
          "parcoords": [
           {
            "line": {
             "colorbar": {
              "outlinewidth": 0,
              "ticks": ""
             }
            },
            "type": "parcoords"
           }
          ],
          "pie": [
           {
            "automargin": true,
            "type": "pie"
           }
          ],
          "scatter": [
           {
            "fillpattern": {
             "fillmode": "overlay",
             "size": 10,
             "solidity": 0.2
            },
            "type": "scatter"
           }
          ],
          "scatter3d": [
           {
            "line": {
             "colorbar": {
              "outlinewidth": 0,
              "ticks": ""
             }
            },
            "marker": {
             "colorbar": {
              "outlinewidth": 0,
              "ticks": ""
             }
            },
            "type": "scatter3d"
           }
          ],
          "scattercarpet": [
           {
            "marker": {
             "colorbar": {
              "outlinewidth": 0,
              "ticks": ""
             }
            },
            "type": "scattercarpet"
           }
          ],
          "scattergeo": [
           {
            "marker": {
             "colorbar": {
              "outlinewidth": 0,
              "ticks": ""
             }
            },
            "type": "scattergeo"
           }
          ],
          "scattergl": [
           {
            "marker": {
             "colorbar": {
              "outlinewidth": 0,
              "ticks": ""
             }
            },
            "type": "scattergl"
           }
          ],
          "scattermapbox": [
           {
            "marker": {
             "colorbar": {
              "outlinewidth": 0,
              "ticks": ""
             }
            },
            "type": "scattermapbox"
           }
          ],
          "scatterpolar": [
           {
            "marker": {
             "colorbar": {
              "outlinewidth": 0,
              "ticks": ""
             }
            },
            "type": "scatterpolar"
           }
          ],
          "scatterpolargl": [
           {
            "marker": {
             "colorbar": {
              "outlinewidth": 0,
              "ticks": ""
             }
            },
            "type": "scatterpolargl"
           }
          ],
          "scatterternary": [
           {
            "marker": {
             "colorbar": {
              "outlinewidth": 0,
              "ticks": ""
             }
            },
            "type": "scatterternary"
           }
          ],
          "surface": [
           {
            "colorbar": {
             "outlinewidth": 0,
             "ticks": ""
            },
            "colorscale": [
             [
              0,
              "#0d0887"
             ],
             [
              0.1111111111111111,
              "#46039f"
             ],
             [
              0.2222222222222222,
              "#7201a8"
             ],
             [
              0.3333333333333333,
              "#9c179e"
             ],
             [
              0.4444444444444444,
              "#bd3786"
             ],
             [
              0.5555555555555556,
              "#d8576b"
             ],
             [
              0.6666666666666666,
              "#ed7953"
             ],
             [
              0.7777777777777778,
              "#fb9f3a"
             ],
             [
              0.8888888888888888,
              "#fdca26"
             ],
             [
              1,
              "#f0f921"
             ]
            ],
            "type": "surface"
           }
          ],
          "table": [
           {
            "cells": {
             "fill": {
              "color": "#EBF0F8"
             },
             "line": {
              "color": "white"
             }
            },
            "header": {
             "fill": {
              "color": "#C8D4E3"
             },
             "line": {
              "color": "white"
             }
            },
            "type": "table"
           }
          ]
         },
         "layout": {
          "annotationdefaults": {
           "arrowcolor": "#2a3f5f",
           "arrowhead": 0,
           "arrowwidth": 1
          },
          "autotypenumbers": "strict",
          "coloraxis": {
           "colorbar": {
            "outlinewidth": 0,
            "ticks": ""
           }
          },
          "colorscale": {
           "diverging": [
            [
             0,
             "#8e0152"
            ],
            [
             0.1,
             "#c51b7d"
            ],
            [
             0.2,
             "#de77ae"
            ],
            [
             0.3,
             "#f1b6da"
            ],
            [
             0.4,
             "#fde0ef"
            ],
            [
             0.5,
             "#f7f7f7"
            ],
            [
             0.6,
             "#e6f5d0"
            ],
            [
             0.7,
             "#b8e186"
            ],
            [
             0.8,
             "#7fbc41"
            ],
            [
             0.9,
             "#4d9221"
            ],
            [
             1,
             "#276419"
            ]
           ],
           "sequential": [
            [
             0,
             "#0d0887"
            ],
            [
             0.1111111111111111,
             "#46039f"
            ],
            [
             0.2222222222222222,
             "#7201a8"
            ],
            [
             0.3333333333333333,
             "#9c179e"
            ],
            [
             0.4444444444444444,
             "#bd3786"
            ],
            [
             0.5555555555555556,
             "#d8576b"
            ],
            [
             0.6666666666666666,
             "#ed7953"
            ],
            [
             0.7777777777777778,
             "#fb9f3a"
            ],
            [
             0.8888888888888888,
             "#fdca26"
            ],
            [
             1,
             "#f0f921"
            ]
           ],
           "sequentialminus": [
            [
             0,
             "#0d0887"
            ],
            [
             0.1111111111111111,
             "#46039f"
            ],
            [
             0.2222222222222222,
             "#7201a8"
            ],
            [
             0.3333333333333333,
             "#9c179e"
            ],
            [
             0.4444444444444444,
             "#bd3786"
            ],
            [
             0.5555555555555556,
             "#d8576b"
            ],
            [
             0.6666666666666666,
             "#ed7953"
            ],
            [
             0.7777777777777778,
             "#fb9f3a"
            ],
            [
             0.8888888888888888,
             "#fdca26"
            ],
            [
             1,
             "#f0f921"
            ]
           ]
          },
          "colorway": [
           "#636efa",
           "#EF553B",
           "#00cc96",
           "#ab63fa",
           "#FFA15A",
           "#19d3f3",
           "#FF6692",
           "#B6E880",
           "#FF97FF",
           "#FECB52"
          ],
          "font": {
           "color": "#2a3f5f"
          },
          "geo": {
           "bgcolor": "white",
           "lakecolor": "white",
           "landcolor": "#E5ECF6",
           "showlakes": true,
           "showland": true,
           "subunitcolor": "white"
          },
          "hoverlabel": {
           "align": "left"
          },
          "hovermode": "closest",
          "mapbox": {
           "style": "light"
          },
          "paper_bgcolor": "white",
          "plot_bgcolor": "#E5ECF6",
          "polar": {
           "angularaxis": {
            "gridcolor": "white",
            "linecolor": "white",
            "ticks": ""
           },
           "bgcolor": "#E5ECF6",
           "radialaxis": {
            "gridcolor": "white",
            "linecolor": "white",
            "ticks": ""
           }
          },
          "scene": {
           "xaxis": {
            "backgroundcolor": "#E5ECF6",
            "gridcolor": "white",
            "gridwidth": 2,
            "linecolor": "white",
            "showbackground": true,
            "ticks": "",
            "zerolinecolor": "white"
           },
           "yaxis": {
            "backgroundcolor": "#E5ECF6",
            "gridcolor": "white",
            "gridwidth": 2,
            "linecolor": "white",
            "showbackground": true,
            "ticks": "",
            "zerolinecolor": "white"
           },
           "zaxis": {
            "backgroundcolor": "#E5ECF6",
            "gridcolor": "white",
            "gridwidth": 2,
            "linecolor": "white",
            "showbackground": true,
            "ticks": "",
            "zerolinecolor": "white"
           }
          },
          "shapedefaults": {
           "line": {
            "color": "#2a3f5f"
           }
          },
          "ternary": {
           "aaxis": {
            "gridcolor": "white",
            "linecolor": "white",
            "ticks": ""
           },
           "baxis": {
            "gridcolor": "white",
            "linecolor": "white",
            "ticks": ""
           },
           "bgcolor": "#E5ECF6",
           "caxis": {
            "gridcolor": "white",
            "linecolor": "white",
            "ticks": ""
           }
          },
          "title": {
           "x": 0.05
          },
          "xaxis": {
           "automargin": true,
           "gridcolor": "white",
           "linecolor": "white",
           "ticks": "",
           "title": {
            "standoff": 15
           },
           "zerolinecolor": "white",
           "zerolinewidth": 2
          },
          "yaxis": {
           "automargin": true,
           "gridcolor": "white",
           "linecolor": "white",
           "ticks": "",
           "title": {
            "standoff": 15
           },
           "zerolinecolor": "white",
           "zerolinewidth": 2
          }
         }
        },
        "title": {
         "text": "PCA of Tweet Data in 3D"
        }
       }
      }
     },
     "metadata": {},
     "output_type": "display_data"
    },
    {
     "data": {
      "image/png": "[encoded data removed]",
      "text/plain": [
       "<Figure size 1200x800 with 2 Axes>"
      ]
     },
     "metadata": {},
     "output_type": "display_data"
    },
    {
     "name": "stdout",
     "output_type": "stream",
     "text": [
      "\n",
      "Top 10 palabras más repetidas por grupo:\n",
      "Word      ad  case  come  day  didnt  enjoy  friend  fun  get   go  ...  \\\n",
      "Cluster                                                             ...   \n",
      "3        0.0   0.0   0.0  0.0    0.0    0.0     0.0  5.0  5.0  6.0  ...   \n",
      "1        0.0   0.0   0.0  0.0    0.0    0.0     1.0  0.0  0.0  2.0  ...   \n",
      "2        0.0   0.0   0.0  1.0    1.0    0.0     0.0  0.0  0.0  0.0  ...   \n",
      "0        1.0   1.0   1.0  0.0    0.0    0.0     0.0  0.0  0.0  0.0  ...   \n",
      "4        0.0   0.0   0.0  1.0    0.0    1.0     0.0  0.0  0.0  0.0  ...   \n",
      "\n",
      "Word     still  today  ton  tonight  tune  want  war  wonder  work  would  \n",
      "Cluster                                                                    \n",
      "3          5.0    0.0  0.0      0.0   0.0   0.0  0.0     0.0   7.0    0.0  \n",
      "1          0.0    0.0  0.0      1.0   0.0   1.0  0.0     0.0   0.0    0.0  \n",
      "2          0.0    0.0  0.0      0.0   0.0   0.0  0.0     0.0   0.0    1.0  \n",
      "0          0.0    1.0  1.0      0.0   1.0   0.0  0.0     1.0   0.0    0.0  \n",
      "4          0.0    0.0  0.0      0.0   0.0   0.0  1.0     0.0   0.0    0.0  \n",
      "\n",
      "[5 rows x 36 columns]\n"
     ]
    }
   ],
   "source": [
    "\n",
    "\n",
    "\n",
    "\n",
    "import pandas as pd\n",
    "import numpy as np\n",
    "from sklearn.decomposition import PCA\n",
    "from sklearn.feature_extraction.text import TfidfVectorizer\n",
    "from sklearn.preprocessing import StandardScaler\n",
    "from sklearn.cluster import KMeans\n",
    "import nltk\n",
    "from nltk.corpus import stopwords, words\n",
    "from nltk.stem import PorterStemmer\n",
    "import string\n",
    "import plotly.express as px\n",
    "import matplotlib.pyplot as plt\n",
    "import seaborn as sns\n",
    "\n",
    "# Descargar recursos de nltk\n",
    "nltk.download('stopwords')\n",
    "nltk.download('words')\n",
    "\n",
    "# Inicializar el stemmer y el conjunto de palabras válidas\n",
    "stemmer = PorterStemmer()\n",
    "valid_words = set(words.words())\n",
    "\n",
    "# Función de preprocesamiento del texto\n",
    "def preprocess_text(text):\n",
    "    if not isinstance(text, str):\n",
    "        return \"\"\n",
    "    stop_words = set(stopwords.words('english'))  # Conjunto de stop words en inglés\n",
    "    text = text.lower()  # Convertir el texto a minúsculas\n",
    "    text = ''.join([char for char in text if char not in string.punctuation])  # Eliminar la puntuación\n",
    "    words_list = text.split()\n",
    "    words_list = [word for word in words_list if word not in stop_words]  # Eliminar stop words\n",
    "    words_list = [stemmer.stem(word) for word in words_list]  # Aplicar stemming\n",
    "    words_list = [word for word in words_list if word in valid_words]  # Eliminar palabras no válidas\n",
    "    text = ' '.join(words_list)\n",
    "    return text\n",
    "\n",
    "# Leer el archivo CSV con codificación ISO-8859-1\n",
    "def read_csv(file_path, num_rows=None):\n",
    "    df = pd.read_csv(file_path, nrows=num_rows, encoding='ISO-8859-1')\n",
    "    return df\n",
    "\n",
    "# Convertir los textos a vectores TF-IDF y obtener la palabra más representativa\n",
    "def get_top_word(text, vectorizer):\n",
    "    tfidf_matrix = vectorizer.transform([text])  # Transformar el texto en una matriz TF-IDF\n",
    "    feature_array = np.array(vectorizer.get_feature_names_out())  # Obtener los nombres de las características (palabras)\n",
    "    tfidf_sorting = np.argsort(tfidf_matrix.toarray()).flatten()[::-1]  # Ordenar los puntajes TF-IDF en orden descendente\n",
    "    top_word = feature_array[tfidf_sorting][0]  # Obtener la palabra con el puntaje más alto\n",
    "    return top_word\n",
    "\n",
    "# Obtener las palabras más frecuentes de cada cluster\n",
    "def get_top_words_per_cluster(df, num_top_words=10):\n",
    "    cluster_words = {}\n",
    "    for cluster in df['cluster'].unique():\n",
    "        words = ' '.join(df[df['cluster'] == cluster]['cleaned_text']).split()\n",
    "        word_freq = pd.Series(words).value_counts().head(num_top_words)\n",
    "        cluster_words[cluster] = word_freq\n",
    "    return pd.DataFrame(cluster_words).fillna(0)\n",
    "\n",
    "# Función principal para realizar el análisis PCA\n",
    "def pca_analysis(file_path, num_rows=None, n_clusters=5):\n",
    "    # Leer el archivo CSV\n",
    "    df = read_csv(file_path, num_rows)\n",
    "    \n",
    "    # Asegurarse de que todas las entradas en la columna 'text' sean cadenas de texto\n",
    "    df['text'] = df['text'].astype(str)\n",
    "    \n",
    "    # Preprocesar los textos\n",
    "    df['cleaned_text'] = df['text'].apply(preprocess_text)\n",
    "    \n",
    "    # Convertir los textos a vectores TF-IDF\n",
    "    vectorizer = TfidfVectorizer()\n",
    "    X = vectorizer.fit_transform(df['cleaned_text']).toarray()\n",
    "    \n",
    "    # Obtener la palabra más representativa\n",
    "    df['top_word'] = df['cleaned_text'].apply(lambda x: get_top_word(x, vectorizer))\n",
    "    \n",
    "    # Estandarizar los datos\n",
    "    scaler = StandardScaler()\n",
    "    X_scaled = scaler.fit_transform(X)\n",
    "    \n",
    "    # Ajustar el número de clusters basado en el número de inliers\n",
    "    n_clusters = min(n_clusters, X_scaled.shape[0])\n",
    "    \n",
    "    # Aplicar PCA con tres componentes\n",
    "    pca = PCA(n_components=3)\n",
    "    principal_components = pca.fit_transform(X_scaled)\n",
    "    \n",
    "    df_pca = pd.DataFrame(data=principal_components, columns=['PC1', 'PC2', 'PC3'])\n",
    "    df_pca['top_word'] = df['top_word'].values\n",
    "    \n",
    "    # Clustering con K-Means\n",
    "    kmeans = KMeans(n_clusters=n_clusters, random_state=42)\n",
    "    clusters = kmeans.fit_predict(X_scaled)\n",
    "    df_pca['cluster'] = clusters\n",
    "    df['cluster'] = clusters\n",
    "    \n",
    "    # Agregar etiquetas numéricas a cada punto en el gráfico\n",
    "    df_pca['label'] = df_pca.index\n",
    "    \n",
    "    # Visualización interactiva en 3D con plotly\n",
    "    fig = px.scatter_3d(df_pca, x='PC1', y='PC2', z='PC3', color='cluster', title='PCA of Tweet Data in 3D', \n",
    "                        labels={'PC1': 'Principal Component 1', 'PC2': 'Principal Component 2', 'PC3': 'Principal Component 3'},\n",
    "                        hover_name='label')\n",
    "    \n",
    "    fig.update_traces(marker=dict(size=3))  # Hacer los puntos más pequeños\n",
    "    fig.update_layout(scene=dict(\n",
    "                        xaxis_title='Principal Component 1',\n",
    "                        yaxis_title='Principal Component 2',\n",
    "                        zaxis_title='Principal Component 3'),\n",
    "                      margin=dict(l=0, r=0, b=0, t=40))\n",
    "    \n",
    "    # Guardar el gráfico interactivo en un archivo HTML\n",
    "    fig.write_html(\"pca_tweet_data.html\")\n",
    "    \n",
    "    fig.show()\n",
    "    \n",
    "    # Obtener y mostrar las palabras más frecuentes por cluster\n",
    "    top_words_df = get_top_words_per_cluster(df)\n",
    "    \n",
    "    # Formatear la tabla de palabras agrupadas\n",
    "    top_words_df.index.name = 'Word'\n",
    "    top_words_df.columns.name = 'Cluster'\n",
    "    top_words_df.reset_index(inplace=True)\n",
    "    \n",
    "    # Transponer la tabla para el heatmap\n",
    "    top_words_df = top_words_df.set_index('Word').T\n",
    "    \n",
    "    # Mostrar la tabla de palabras agrupadas\n",
    "    plt.figure(figsize=(12, 8))\n",
    "    sns.heatmap(top_words_df, annot=True, fmt='g', cmap='viridis')\n",
    "    plt.title('Top 10 Words by Cluster')\n",
    "    plt.xlabel('Word')\n",
    "    plt.ylabel('Cluster')\n",
    "    plt.show()\n",
    "    \n",
    "    return top_words_df\n",
    "\n",
    "# Ejemplo de uso\n",
    "file_path = 'C:/Users/nicol/OneDrive/MIA/Cursos/Aprendizaje Sup/Proyecto de Aplicacion/REPO GITHUB/proyecto-final-machine-learning/dataset/train.csv'  # Ruta actualizada del archivo CSV\n",
    "num_rows = 100  # Número de filas a considerar para el análisis, None para usar todas las filas\n",
    "n_clusters = 5  # Número de clusters\n",
    "\n",
    "top_words_df = pca_analysis(file_path, num_rows, n_clusters)\n",
    "\n",
    "# Mostrar la tabla de palabras agrupadas\n",
    "print(\"\\nTop 10 palabras más repetidas por grupo:\")\n",
    "print(top_words_df)\n"
   ]
  }
 ],
 "metadata": {
  "kernelspec": {
   "display_name": "Python 3",
   "language": "python",
   "name": "python3"
  },
  "language_info": {
   "codemirror_mode": {
    "name": "ipython",
    "version": 3
   },
   "file_extension": ".py",
   "mimetype": "text/x-python",
   "name": "python",
   "nbconvert_exporter": "python",
   "pygments_lexer": "ipython3",
   "version": "3.12.3"
  }
 },
 "nbformat": 4,
 "nbformat_minor": 2
}
