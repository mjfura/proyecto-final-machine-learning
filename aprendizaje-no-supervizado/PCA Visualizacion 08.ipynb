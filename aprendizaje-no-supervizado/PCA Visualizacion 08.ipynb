{
 "cells": [
  {
   "cell_type": "code",
   "execution_count": 1,
   "metadata": {},
   "outputs": [
    {
     "name": "stderr",
     "output_type": "stream",
     "text": [
      "[nltk_data] Downloading package stopwords to\n",
      "[nltk_data]     C:\\Users\\nicol\\AppData\\Roaming\\nltk_data...\n",
      "[nltk_data]   Package stopwords is already up-to-date!\n"
     ]
    },
    {
     "data": {
      "application/vnd.plotly.v1+json": {
       "config": {
        "plotlyServerURL": "https://plot.ly"
       },
       "data": [
        {
         "hovertemplate": "Principal Component 1=%{x}<br>Principal Component 2=%{y}<br>Principal Component 3=%{z}<br>top_word=%{text}<br>cluster=%{marker.color}<extra></extra>",
         "legendgroup": "",
         "marker": {
          "color": [
           0,
           0,
           0,
           2,
           0,
           0,
           0,
           0,
           0,
           0,
           2,
           4,
           0,
           2,
           0,
           0,
           0,
           3,
           2,
           1,
           0,
           0,
           2,
           0,
           0,
           0,
           2,
           0,
           4,
           0,
           2,
           3,
           3,
           0,
           0,
           0,
           2,
           0,
           0,
           0,
           3,
           0,
           0,
           0,
           0,
           0,
           2,
           0,
           0,
           0,
           0,
           1,
           2,
           4,
           0,
           0,
           4,
           0,
           2,
           0,
           0,
           0,
           0,
           0,
           2,
           0,
           0,
           3,
           2,
           0,
           0,
           0,
           4,
           0,
           3,
           0,
           0
          ],
          "coloraxis": "coloraxis",
          "symbol": "circle"
         },
         "mode": "markers+text",
         "name": "",
         "scene": "scene",
         "showlegend": false,
         "text": [
          "respond",
          "diego",
          "bulli",
          "leav",
          "releas",
          "httpwwwdothebouncycomsmf",
          "2am",
          "soooo",
          "â½",
          "cooler",
          "minim",
          "realli",
          "low",
          "voic",
          "test",
          "uh",
          "altern",
          "look",
          "everi",
          "he",
          "soon",
          "clean",
          "app",
          "sorri",
          "twit",
          "power",
          "quiteheavenli",
          "unni",
          "obes",
          "cute",
          "slept",
          "todaysniffl",
          "itsm",
          "magazin",
          "mayday",
          "friendster",
          "week",
          "hate",
          "bore",
          "us",
          "dissappoint",
          "zero",
          "morn",
          "httpplurkcomprp3k7",
          "ace",
          "speak",
          "sleepyi",
          "haha",
          "easili",
          "iphon",
          "photoshoot",
          "he",
          "play",
          "chilliin",
          "know",
          "smell",
          "sound",
          "one",
          "ill",
          "baddd",
          "sourc",
          "sooo",
          "tell",
          "yyyyyyyyyoooooooooouuuuu",
          "oz",
          "asleep",
          "flu",
          "holiday",
          "bbi",
          "fran",
          "mounc",
          "join",
          "pill",
          "ice",
          "mother",
          "unfortun",
          "saw"
         ],
         "type": "scatter3d",
         "x": [
          -0.47176710339272004,
          -0.42499890189456174,
          -0.37047525319280683,
          -0.44938497434293756,
          -0.9720179656011795,
          0.9344800340795774,
          -0.8741539426647045,
          -0.37047525319280605,
          -0.2762721070247902,
          -1.0955462010830053,
          15.414642534396098,
          -0.45584260614195743,
          -0.6974177874103061,
          -0.5582356673152947,
          0.3527966992666457,
          -0.2702970202033049,
          1.246833253491845,
          -10.768593238549817,
          0.6743981638782005,
          -0.3190452065345432,
          1.6024062279379145,
          -0.9592533225589033,
          -0.6757863973725503,
          0.2620891720088981,
          -0.7793101830240303,
          -0.2822930263828723,
          -0.43965605086805115,
          1.2517431462089705,
          13.869434395231373,
          -0.5118235256274368,
          12.561779245704189,
          -0.9939292667566006,
          -3.4285194955604785,
          0.08711578220872704,
          -0.3165130160428758,
          -0.44661927971318555,
          0.7509741255650704,
          -1.3698665366834568,
          -0.9255364948294723,
          -0.4466192797131859,
          -1.4726234557472464,
          -0.458780073624511,
          -0.9261580154913586,
          -0.5030279927520254,
          -0.7583460011276182,
          -0.328674740186899,
          -0.3344148364090747,
          -0.43601660177782303,
          -0.36198794929433226,
          1.2076102799437138,
          -0.31651301604287424,
          -0.26285751075360136,
          2.8466736391875296,
          -0.3165130160428756,
          -0.4229184433997066,
          -0.49312649160675964,
          -1.1838597069014374,
          -1.1199443874352015,
          -1.7897605858337742,
          -0.9022996648578694,
          0.257288837281007,
          -0.26560039604436575,
          -3.8966650978878503,
          -0.3704752531928047,
          -0.5024384473108693,
          -0.44232902830628573,
          -1.4545878451318004,
          -3.4304458388238586,
          0.6304450455268429,
          -0.19747548384912766,
          -1.1145121749870381,
          -0.8082772126179953,
          1.6164625428081925,
          0.6071625444992267,
          -1.4373222747446937,
          -0.5621605040116341,
          0.6460254806471236
         ],
         "y": [
          -0.10173325539849827,
          -0.15127751010410256,
          0.010553047240815206,
          -0.02872286806136436,
          0.02961120552242949,
          -4.291993981917675,
          0.003005281846441822,
          0.01055304724080634,
          0.007790421817333618,
          0.046023848087919594,
          3.865894633978919,
          0.2634667536101588,
          0.020592955709515765,
          -0.3928418019983847,
          1.098824931206726,
          -0.09810574653178078,
          -3.096464134009061,
          3.8680399119619473,
          -0.8681062810879042,
          -0.017145486816203315,
          -1.1436271850937203,
          0.15740407788950847,
          0.02945469679623451,
          -0.2786829904757498,
          0.06836208477510705,
          -0.6912028388472192,
          -0.16433252920540406,
          -1.2661315266906858,
          18.345837012161397,
          0.014797577339507697,
          -17.8267752803492,
          0.2857973812780888,
          2.0569151571013675,
          0.03197873735658329,
          0.008963701380973903,
          0.01282747541187966,
          1.7706521180521757,
          0.47135677588115504,
          0.07650865766860772,
          0.012827475411879945,
          0.4316415285929797,
          0.01320190828472124,
          0.005606609411141643,
          0.04431343561339424,
          0.0225457445118814,
          -0.18974997960957576,
          -0.42577692894910685,
          0.0375130470744769,
          0.010301845109986503,
          1.8487913534843972,
          0.0089637013809741,
          -0.37259440169246294,
          -4.171416113771277,
          0.0089637013809734,
          0.012115498295706063,
          0.014235291929568145,
          0.03696893928835776,
          0.5326225184003438,
          2.0706877435948234,
          0.0803702056563197,
          1.0863582623188957,
          -0.17294198269612382,
          1.131515143580634,
          0.010553047240804843,
          -0.4296548111035081,
          -0.1533988535273744,
          0.5115124063417827,
          1.0207234890564283,
          -1.9656735218461103,
          0.15375042824615778,
          0.36147824635805675,
          0.24048818427049398,
          -2.50710177883942,
          0.39736143134394325,
          0.4375652706495175,
          0.016351634597695633,
          -2.309087794119992
         ],
         "z": [
          -0.5629444166811426,
          -0.5414247354669499,
          -0.336628304811785,
          -0.4954110173775764,
          -1.0458286418647977,
          0.24871318344555066,
          -0.9586345925957702,
          -0.336628304811785,
          -0.24506432124728078,
          -1.2380326183297399,
          6.007156568276266,
          -0.6084341760221325,
          -0.692198386502568,
          -1.5349126235616941,
          -0.24943053050904848,
          -0.3492442704488606,
          0.6431587683520343,
          22.803396363096294,
          -0.27659281910870603,
          -0.3053431488773056,
          0.3438379936993336,
          -1.3425340202029965,
          -1.3138786651257184,
          -0.27934887085826215,
          -0.5654025025813396,
          -0.6787430584384264,
          -0.7220768465040871,
          0.3201571971184829,
          2.3686651409966037,
          -0.4820486199718516,
          7.37883387726534,
          -0.12894360167730332,
          -3.9034393528902425,
          -0.4225451910927446,
          -0.28363978959205355,
          -0.4139633817648736,
          -0.8463907990303718,
          -1.6173240533960154,
          -0.7852533861538624,
          -0.4139633817648739,
          1.1551842905728482,
          -0.4272440511275278,
          -0.9964446969094175,
          -0.8291337569269608,
          -0.765845282358092,
          -0.3717075508752127,
          -1.0844210908518732,
          -0.2916579433731671,
          -0.32819640034549896,
          -0.5020167790412603,
          -0.28363978959205405,
          -0.5036214463155129,
          0.1446602904685338,
          -0.28363978959205455,
          -0.3895610234047419,
          -0.46274459301677134,
          -1.3620729363953505,
          -2.7487156025731996,
          -6.113516776335388,
          -1.057551955312742,
          -0.5294877626746204,
          -0.3200770473027212,
          5.608823807453605,
          -0.3366283048117809,
          -1.647904044240099,
          -0.6881600412498304,
          1.1166765390157116,
          -0.7933063042734355,
          -0.0705486223251005,
          -0.5423894942419593,
          0.36588224326186264,
          -0.6605885920357434,
          0.42286186406923115,
          -0.1228511433848812,
          -0.1237974834313382,
          -0.5374293521217696,
          0.22313995861057306
         ]
        }
       ],
       "layout": {
        "coloraxis": {
         "colorbar": {
          "title": {
           "text": "cluster"
          }
         },
         "colorscale": [
          [
           0,
           "#0d0887"
          ],
          [
           0.1111111111111111,
           "#46039f"
          ],
          [
           0.2222222222222222,
           "#7201a8"
          ],
          [
           0.3333333333333333,
           "#9c179e"
          ],
          [
           0.4444444444444444,
           "#bd3786"
          ],
          [
           0.5555555555555556,
           "#d8576b"
          ],
          [
           0.6666666666666666,
           "#ed7953"
          ],
          [
           0.7777777777777778,
           "#fb9f3a"
          ],
          [
           0.8888888888888888,
           "#fdca26"
          ],
          [
           1,
           "#f0f921"
          ]
         ]
        },
        "legend": {
         "tracegroupgap": 0
        },
        "margin": {
         "b": 0,
         "l": 0,
         "r": 0,
         "t": 40
        },
        "scene": {
         "domain": {
          "x": [
           0,
           1
          ],
          "y": [
           0,
           1
          ]
         },
         "xaxis": {
          "title": {
           "text": "Principal Component 1"
          }
         },
         "yaxis": {
          "title": {
           "text": "Principal Component 2"
          }
         },
         "zaxis": {
          "title": {
           "text": "Principal Component 3"
          }
         }
        },
        "template": {
         "data": {
          "bar": [
           {
            "error_x": {
             "color": "#2a3f5f"
            },
            "error_y": {
             "color": "#2a3f5f"
            },
            "marker": {
             "line": {
              "color": "#E5ECF6",
              "width": 0.5
             },
             "pattern": {
              "fillmode": "overlay",
              "size": 10,
              "solidity": 0.2
             }
            },
            "type": "bar"
           }
          ],
          "barpolar": [
           {
            "marker": {
             "line": {
              "color": "#E5ECF6",
              "width": 0.5
             },
             "pattern": {
              "fillmode": "overlay",
              "size": 10,
              "solidity": 0.2
             }
            },
            "type": "barpolar"
           }
          ],
          "carpet": [
           {
            "aaxis": {
             "endlinecolor": "#2a3f5f",
             "gridcolor": "white",
             "linecolor": "white",
             "minorgridcolor": "white",
             "startlinecolor": "#2a3f5f"
            },
            "baxis": {
             "endlinecolor": "#2a3f5f",
             "gridcolor": "white",
             "linecolor": "white",
             "minorgridcolor": "white",
             "startlinecolor": "#2a3f5f"
            },
            "type": "carpet"
           }
          ],
          "choropleth": [
           {
            "colorbar": {
             "outlinewidth": 0,
             "ticks": ""
            },
            "type": "choropleth"
           }
          ],
          "contour": [
           {
            "colorbar": {
             "outlinewidth": 0,
             "ticks": ""
            },
            "colorscale": [
             [
              0,
              "#0d0887"
             ],
             [
              0.1111111111111111,
              "#46039f"
             ],
             [
              0.2222222222222222,
              "#7201a8"
             ],
             [
              0.3333333333333333,
              "#9c179e"
             ],
             [
              0.4444444444444444,
              "#bd3786"
             ],
             [
              0.5555555555555556,
              "#d8576b"
             ],
             [
              0.6666666666666666,
              "#ed7953"
             ],
             [
              0.7777777777777778,
              "#fb9f3a"
             ],
             [
              0.8888888888888888,
              "#fdca26"
             ],
             [
              1,
              "#f0f921"
             ]
            ],
            "type": "contour"
           }
          ],
          "contourcarpet": [
           {
            "colorbar": {
             "outlinewidth": 0,
             "ticks": ""
            },
            "type": "contourcarpet"
           }
          ],
          "heatmap": [
           {
            "colorbar": {
             "outlinewidth": 0,
             "ticks": ""
            },
            "colorscale": [
             [
              0,
              "#0d0887"
             ],
             [
              0.1111111111111111,
              "#46039f"
             ],
             [
              0.2222222222222222,
              "#7201a8"
             ],
             [
              0.3333333333333333,
              "#9c179e"
             ],
             [
              0.4444444444444444,
              "#bd3786"
             ],
             [
              0.5555555555555556,
              "#d8576b"
             ],
             [
              0.6666666666666666,
              "#ed7953"
             ],
             [
              0.7777777777777778,
              "#fb9f3a"
             ],
             [
              0.8888888888888888,
              "#fdca26"
             ],
             [
              1,
              "#f0f921"
             ]
            ],
            "type": "heatmap"
           }
          ],
          "heatmapgl": [
           {
            "colorbar": {
             "outlinewidth": 0,
             "ticks": ""
            },
            "colorscale": [
             [
              0,
              "#0d0887"
             ],
             [
              0.1111111111111111,
              "#46039f"
             ],
             [
              0.2222222222222222,
              "#7201a8"
             ],
             [
              0.3333333333333333,
              "#9c179e"
             ],
             [
              0.4444444444444444,
              "#bd3786"
             ],
             [
              0.5555555555555556,
              "#d8576b"
             ],
             [
              0.6666666666666666,
              "#ed7953"
             ],
             [
              0.7777777777777778,
              "#fb9f3a"
             ],
             [
              0.8888888888888888,
              "#fdca26"
             ],
             [
              1,
              "#f0f921"
             ]
            ],
            "type": "heatmapgl"
           }
          ],
          "histogram": [
           {
            "marker": {
             "pattern": {
              "fillmode": "overlay",
              "size": 10,
              "solidity": 0.2
             }
            },
            "type": "histogram"
           }
          ],
          "histogram2d": [
           {
            "colorbar": {
             "outlinewidth": 0,
             "ticks": ""
            },
            "colorscale": [
             [
              0,
              "#0d0887"
             ],
             [
              0.1111111111111111,
              "#46039f"
             ],
             [
              0.2222222222222222,
              "#7201a8"
             ],
             [
              0.3333333333333333,
              "#9c179e"
             ],
             [
              0.4444444444444444,
              "#bd3786"
             ],
             [
              0.5555555555555556,
              "#d8576b"
             ],
             [
              0.6666666666666666,
              "#ed7953"
             ],
             [
              0.7777777777777778,
              "#fb9f3a"
             ],
             [
              0.8888888888888888,
              "#fdca26"
             ],
             [
              1,
              "#f0f921"
             ]
            ],
            "type": "histogram2d"
           }
          ],
          "histogram2dcontour": [
           {
            "colorbar": {
             "outlinewidth": 0,
             "ticks": ""
            },
            "colorscale": [
             [
              0,
              "#0d0887"
             ],
             [
              0.1111111111111111,
              "#46039f"
             ],
             [
              0.2222222222222222,
              "#7201a8"
             ],
             [
              0.3333333333333333,
              "#9c179e"
             ],
             [
              0.4444444444444444,
              "#bd3786"
             ],
             [
              0.5555555555555556,
              "#d8576b"
             ],
             [
              0.6666666666666666,
              "#ed7953"
             ],
             [
              0.7777777777777778,
              "#fb9f3a"
             ],
             [
              0.8888888888888888,
              "#fdca26"
             ],
             [
              1,
              "#f0f921"
             ]
            ],
            "type": "histogram2dcontour"
           }
          ],
          "mesh3d": [
           {
            "colorbar": {
             "outlinewidth": 0,
             "ticks": ""
            },
            "type": "mesh3d"
           }
          ],
          "parcoords": [
           {
            "line": {
             "colorbar": {
              "outlinewidth": 0,
              "ticks": ""
             }
            },
            "type": "parcoords"
           }
          ],
          "pie": [
           {
            "automargin": true,
            "type": "pie"
           }
          ],
          "scatter": [
           {
            "fillpattern": {
             "fillmode": "overlay",
             "size": 10,
             "solidity": 0.2
            },
            "type": "scatter"
           }
          ],
          "scatter3d": [
           {
            "line": {
             "colorbar": {
              "outlinewidth": 0,
              "ticks": ""
             }
            },
            "marker": {
             "colorbar": {
              "outlinewidth": 0,
              "ticks": ""
             }
            },
            "type": "scatter3d"
           }
          ],
          "scattercarpet": [
           {
            "marker": {
             "colorbar": {
              "outlinewidth": 0,
              "ticks": ""
             }
            },
            "type": "scattercarpet"
           }
          ],
          "scattergeo": [
           {
            "marker": {
             "colorbar": {
              "outlinewidth": 0,
              "ticks": ""
             }
            },
            "type": "scattergeo"
           }
          ],
          "scattergl": [
           {
            "marker": {
             "colorbar": {
              "outlinewidth": 0,
              "ticks": ""
             }
            },
            "type": "scattergl"
           }
          ],
          "scattermapbox": [
           {
            "marker": {
             "colorbar": {
              "outlinewidth": 0,
              "ticks": ""
             }
            },
            "type": "scattermapbox"
           }
          ],
          "scatterpolar": [
           {
            "marker": {
             "colorbar": {
              "outlinewidth": 0,
              "ticks": ""
             }
            },
            "type": "scatterpolar"
           }
          ],
          "scatterpolargl": [
           {
            "marker": {
             "colorbar": {
              "outlinewidth": 0,
              "ticks": ""
             }
            },
            "type": "scatterpolargl"
           }
          ],
          "scatterternary": [
           {
            "marker": {
             "colorbar": {
              "outlinewidth": 0,
              "ticks": ""
             }
            },
            "type": "scatterternary"
           }
          ],
          "surface": [
           {
            "colorbar": {
             "outlinewidth": 0,
             "ticks": ""
            },
            "colorscale": [
             [
              0,
              "#0d0887"
             ],
             [
              0.1111111111111111,
              "#46039f"
             ],
             [
              0.2222222222222222,
              "#7201a8"
             ],
             [
              0.3333333333333333,
              "#9c179e"
             ],
             [
              0.4444444444444444,
              "#bd3786"
             ],
             [
              0.5555555555555556,
              "#d8576b"
             ],
             [
              0.6666666666666666,
              "#ed7953"
             ],
             [
              0.7777777777777778,
              "#fb9f3a"
             ],
             [
              0.8888888888888888,
              "#fdca26"
             ],
             [
              1,
              "#f0f921"
             ]
            ],
            "type": "surface"
           }
          ],
          "table": [
           {
            "cells": {
             "fill": {
              "color": "#EBF0F8"
             },
             "line": {
              "color": "white"
             }
            },
            "header": {
             "fill": {
              "color": "#C8D4E3"
             },
             "line": {
              "color": "white"
             }
            },
            "type": "table"
           }
          ]
         },
         "layout": {
          "annotationdefaults": {
           "arrowcolor": "#2a3f5f",
           "arrowhead": 0,
           "arrowwidth": 1
          },
          "autotypenumbers": "strict",
          "coloraxis": {
           "colorbar": {
            "outlinewidth": 0,
            "ticks": ""
           }
          },
          "colorscale": {
           "diverging": [
            [
             0,
             "#8e0152"
            ],
            [
             0.1,
             "#c51b7d"
            ],
            [
             0.2,
             "#de77ae"
            ],
            [
             0.3,
             "#f1b6da"
            ],
            [
             0.4,
             "#fde0ef"
            ],
            [
             0.5,
             "#f7f7f7"
            ],
            [
             0.6,
             "#e6f5d0"
            ],
            [
             0.7,
             "#b8e186"
            ],
            [
             0.8,
             "#7fbc41"
            ],
            [
             0.9,
             "#4d9221"
            ],
            [
             1,
             "#276419"
            ]
           ],
           "sequential": [
            [
             0,
             "#0d0887"
            ],
            [
             0.1111111111111111,
             "#46039f"
            ],
            [
             0.2222222222222222,
             "#7201a8"
            ],
            [
             0.3333333333333333,
             "#9c179e"
            ],
            [
             0.4444444444444444,
             "#bd3786"
            ],
            [
             0.5555555555555556,
             "#d8576b"
            ],
            [
             0.6666666666666666,
             "#ed7953"
            ],
            [
             0.7777777777777778,
             "#fb9f3a"
            ],
            [
             0.8888888888888888,
             "#fdca26"
            ],
            [
             1,
             "#f0f921"
            ]
           ],
           "sequentialminus": [
            [
             0,
             "#0d0887"
            ],
            [
             0.1111111111111111,
             "#46039f"
            ],
            [
             0.2222222222222222,
             "#7201a8"
            ],
            [
             0.3333333333333333,
             "#9c179e"
            ],
            [
             0.4444444444444444,
             "#bd3786"
            ],
            [
             0.5555555555555556,
             "#d8576b"
            ],
            [
             0.6666666666666666,
             "#ed7953"
            ],
            [
             0.7777777777777778,
             "#fb9f3a"
            ],
            [
             0.8888888888888888,
             "#fdca26"
            ],
            [
             1,
             "#f0f921"
            ]
           ]
          },
          "colorway": [
           "#636efa",
           "#EF553B",
           "#00cc96",
           "#ab63fa",
           "#FFA15A",
           "#19d3f3",
           "#FF6692",
           "#B6E880",
           "#FF97FF",
           "#FECB52"
          ],
          "font": {
           "color": "#2a3f5f"
          },
          "geo": {
           "bgcolor": "white",
           "lakecolor": "white",
           "landcolor": "#E5ECF6",
           "showlakes": true,
           "showland": true,
           "subunitcolor": "white"
          },
          "hoverlabel": {
           "align": "left"
          },
          "hovermode": "closest",
          "mapbox": {
           "style": "light"
          },
          "paper_bgcolor": "white",
          "plot_bgcolor": "#E5ECF6",
          "polar": {
           "angularaxis": {
            "gridcolor": "white",
            "linecolor": "white",
            "ticks": ""
           },
           "bgcolor": "#E5ECF6",
           "radialaxis": {
            "gridcolor": "white",
            "linecolor": "white",
            "ticks": ""
           }
          },
          "scene": {
           "xaxis": {
            "backgroundcolor": "#E5ECF6",
            "gridcolor": "white",
            "gridwidth": 2,
            "linecolor": "white",
            "showbackground": true,
            "ticks": "",
            "zerolinecolor": "white"
           },
           "yaxis": {
            "backgroundcolor": "#E5ECF6",
            "gridcolor": "white",
            "gridwidth": 2,
            "linecolor": "white",
            "showbackground": true,
            "ticks": "",
            "zerolinecolor": "white"
           },
           "zaxis": {
            "backgroundcolor": "#E5ECF6",
            "gridcolor": "white",
            "gridwidth": 2,
            "linecolor": "white",
            "showbackground": true,
            "ticks": "",
            "zerolinecolor": "white"
           }
          },
          "shapedefaults": {
           "line": {
            "color": "#2a3f5f"
           }
          },
          "ternary": {
           "aaxis": {
            "gridcolor": "white",
            "linecolor": "white",
            "ticks": ""
           },
           "baxis": {
            "gridcolor": "white",
            "linecolor": "white",
            "ticks": ""
           },
           "bgcolor": "#E5ECF6",
           "caxis": {
            "gridcolor": "white",
            "linecolor": "white",
            "ticks": ""
           }
          },
          "title": {
           "x": 0.05
          },
          "xaxis": {
           "automargin": true,
           "gridcolor": "white",
           "linecolor": "white",
           "ticks": "",
           "title": {
            "standoff": 15
           },
           "zerolinecolor": "white",
           "zerolinewidth": 2
          },
          "yaxis": {
           "automargin": true,
           "gridcolor": "white",
           "linecolor": "white",
           "ticks": "",
           "title": {
            "standoff": 15
           },
           "zerolinecolor": "white",
           "zerolinewidth": 2
          }
         }
        },
        "title": {
         "text": "PCA of Tweet Data in 3D"
        }
       }
      }
     },
     "metadata": {},
     "output_type": "display_data"
    }
   ],
   "source": [
    "import pandas as pd\n",
    "import numpy as np\n",
    "from sklearn.decomposition import PCA\n",
    "from sklearn.feature_extraction.text import TfidfVectorizer\n",
    "from sklearn.preprocessing import StandardScaler\n",
    "from sklearn.metrics.pairwise import cosine_distances\n",
    "from sklearn_extra.cluster import KMedoids\n",
    "from sklearn.neighbors import LocalOutlierFactor\n",
    "import nltk\n",
    "from nltk.corpus import stopwords\n",
    "from nltk.stem import PorterStemmer\n",
    "import string\n",
    "import plotly.express as px\n",
    "\n",
    "# Descargar stopwords\n",
    "nltk.download('stopwords')\n",
    "\n",
    "# Inicializar el stemmer\n",
    "stemmer = PorterStemmer()\n",
    "\n",
    "# Función de preprocesamiento del texto\n",
    "def preprocess_text(text):\n",
    "    stop_words = set(stopwords.words('english'))  # Conjunto de stop words en inglés\n",
    "    text = text.lower()  # Convertir el texto a minúsculas\n",
    "    text = ''.join([char for char in text if char not in string.punctuation])  # Eliminar la puntuación\n",
    "    words = text.split()\n",
    "    words = [word for word in words if word not in stop_words]  # Eliminar stop words\n",
    "    words = [stemmer.stem(word) for word in words]  # Aplicar stemming\n",
    "    text = ' '.join(words)\n",
    "    return text\n",
    "\n",
    "# Leer el archivo CSV con codificación ISO-8859-1\n",
    "def read_csv(file_path, num_rows=None):\n",
    "    df = pd.read_csv(file_path, nrows=num_rows, encoding='ISO-8859-1')\n",
    "    return df\n",
    "\n",
    "# Convertir los textos a vectores TF-IDF y obtener la palabra más representativa\n",
    "def get_top_word(text, vectorizer):\n",
    "    tfidf_matrix = vectorizer.transform([text])  # Transformar el texto en una matriz TF-IDF\n",
    "    feature_array = np.array(vectorizer.get_feature_names_out())  # Obtener los nombres de las características (palabras)\n",
    "    tfidf_sorting = np.argsort(tfidf_matrix.toarray()).flatten()[::-1]  # Ordenar los puntajes TF-IDF en orden descendente\n",
    "    top_word = feature_array[tfidf_sorting][0]  # Obtener la palabra con el puntaje más alto\n",
    "    return top_word\n",
    "\n",
    "# Función para eliminar outliers usando Local Outlier Factor (LOF)\n",
    "def remove_outliers(X, n_neighbors=20):\n",
    "    lof = LocalOutlierFactor(n_neighbors=n_neighbors)\n",
    "    y_pred = lof.fit_predict(X)\n",
    "    return y_pred == 1\n",
    "\n",
    "# Función principal para realizar el análisis PCA\n",
    "def pca_analysis(file_path, num_rows=None, remove_outliers_option=False):\n",
    "    # Leer el archivo CSV\n",
    "    df = read_csv(file_path, num_rows)\n",
    "    \n",
    "    # Preprocesar los textos\n",
    "    df['cleaned_text'] = df['text'].apply(preprocess_text)\n",
    "    \n",
    "    # Convertir los textos a vectores TF-IDF\n",
    "    vectorizer = TfidfVectorizer()\n",
    "    X = vectorizer.fit_transform(df['cleaned_text']).toarray()\n",
    "    \n",
    "    # Obtener la palabra más representativa\n",
    "    df['top_word'] = df['cleaned_text'].apply(lambda x: get_top_word(x, vectorizer))\n",
    "    \n",
    "    # Estandarizar los datos\n",
    "    scaler = StandardScaler()\n",
    "    X_scaled = scaler.fit_transform(X)\n",
    "    \n",
    "    # Opcional: Eliminar outliers\n",
    "    if remove_outliers_option:\n",
    "        inliers = remove_outliers(X_scaled)\n",
    "        X_scaled = X_scaled[inliers]\n",
    "        df = df[inliers]\n",
    "    \n",
    "    # Aplicar PCA con tres componentes\n",
    "    pca = PCA(n_components=3)\n",
    "    principal_components = pca.fit_transform(X_scaled)\n",
    "    \n",
    "    df_pca = pd.DataFrame(data=principal_components, columns=['PC1', 'PC2', 'PC3'])\n",
    "    df_pca['top_word'] = df['top_word'].values\n",
    "    \n",
    "    # Recalcular la matriz de distancias después de eliminar outliers\n",
    "    distance_matrix = cosine_distances(X_scaled)\n",
    "    \n",
    "    # Clustering con K-Medoids y distancia de similitud coseno\n",
    "    kmedoids = KMedoids(n_clusters=5, metric='precomputed', random_state=42)\n",
    "    clusters = kmedoids.fit_predict(distance_matrix)\n",
    "    df_pca['cluster'] = clusters\n",
    "    \n",
    "    # Visualización interactiva en 3D con plotly\n",
    "    fig = px.scatter_3d(df_pca, x='PC1', y='PC2', z='PC3', color='cluster', text='top_word',\n",
    "                        title='PCA of Tweet Data in 3D', labels={'PC1': 'Principal Component 1', 'PC2': 'Principal Component 2', 'PC3': 'Principal Component 3'})\n",
    "    \n",
    "    fig.update_traces(marker=dict(size=5), selector=dict(mode='markers'))\n",
    "    fig.update_layout(scene=dict(\n",
    "                        xaxis_title='Principal Component 1',\n",
    "                        yaxis_title='Principal Component 2',\n",
    "                        zaxis_title='Principal Component 3'),\n",
    "                      margin=dict(l=0, r=0, b=0, t=40))\n",
    "    \n",
    "    # Guardar el gráfico interactivo en un archivo HTML\n",
    "    fig.write_html(\"pca_tweet_data.html\")\n",
    "    \n",
    "    fig.show()\n",
    "\n",
    "# Ejemplo de uso\n",
    "file_path = 'C:/Users/nicol/OneDrive/MIA/Cursos/Aprendizaje Sup/Proyecto de Aplicacion/REPO GITHUB/proyecto-final-machine-learning/dataset/train.csv'  # Reemplazar con la ruta a tu archivo CSV\n",
    "num_rows = 100  # Número de filas a considerar para el análisis, None para usar todas las filas\n",
    "remove_outliers_option = True  # Cambiar a False para no eliminar outliers\n",
    "\n",
    "pca_analysis(file_path, num_rows, remove_outliers_option)\n"
   ]
  }
 ],
 "metadata": {
  "kernelspec": {
   "display_name": "Python 3",
   "language": "python",
   "name": "python3"
  },
  "language_info": {
   "codemirror_mode": {
    "name": "ipython",
    "version": 3
   },
   "file_extension": ".py",
   "mimetype": "text/x-python",
   "name": "python",
   "nbconvert_exporter": "python",
   "pygments_lexer": "ipython3",
   "version": "3.12.3"
  }
 },
 "nbformat": 4,
 "nbformat_minor": 2
}
